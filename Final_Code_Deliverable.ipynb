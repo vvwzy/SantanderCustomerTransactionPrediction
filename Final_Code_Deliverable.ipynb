{
  "nbformat": 4,
  "nbformat_minor": 0,
  "metadata": {
    "colab": {
      "name": "Final_Code_Deliverable.ipynb",
      "provenance": [],
      "collapsed_sections": [],
      "machine_shape": "hm"
    },
    "kernelspec": {
      "name": "python3",
      "display_name": "Python 3"
    },
    "language_info": {
      "name": "python"
    }
  },
  "cells": [
    {
      "cell_type": "code",
      "source": [
        "pip install bayesian-optimization"
      ],
      "metadata": {
        "colab": {
          "base_uri": "https://localhost:8080/"
        },
        "id": "mER208_uVFN9",
        "outputId": "a3df3b93-b2a2-4936-f065-a6a11a88eb68"
      },
      "execution_count": null,
      "outputs": [
        {
          "output_type": "stream",
          "name": "stdout",
          "text": [
            "Collecting bayesian-optimization\n",
            "  Downloading bayesian-optimization-1.2.0.tar.gz (14 kB)\n",
            "Requirement already satisfied: numpy>=1.9.0 in /usr/local/lib/python3.7/dist-packages (from bayesian-optimization) (1.21.5)\n",
            "Requirement already satisfied: scipy>=0.14.0 in /usr/local/lib/python3.7/dist-packages (from bayesian-optimization) (1.4.1)\n",
            "Requirement already satisfied: scikit-learn>=0.18.0 in /usr/local/lib/python3.7/dist-packages (from bayesian-optimization) (1.0.2)\n",
            "Requirement already satisfied: joblib>=0.11 in /usr/local/lib/python3.7/dist-packages (from scikit-learn>=0.18.0->bayesian-optimization) (1.1.0)\n",
            "Requirement already satisfied: threadpoolctl>=2.0.0 in /usr/local/lib/python3.7/dist-packages (from scikit-learn>=0.18.0->bayesian-optimization) (3.1.0)\n",
            "Building wheels for collected packages: bayesian-optimization\n",
            "  Building wheel for bayesian-optimization (setup.py) ... \u001b[?25l\u001b[?25hdone\n",
            "  Created wheel for bayesian-optimization: filename=bayesian_optimization-1.2.0-py3-none-any.whl size=11685 sha256=440012f8e39db1d5547cdec743f48b294a8015d6e1da71e7f542fe7e6956ec50\n",
            "  Stored in directory: /root/.cache/pip/wheels/fd/9b/71/f127d694e02eb40bcf18c7ae9613b88a6be4470f57a8528c5b\n",
            "Successfully built bayesian-optimization\n",
            "Installing collected packages: bayesian-optimization\n",
            "Successfully installed bayesian-optimization-1.2.0\n"
          ]
        }
      ]
    },
    {
      "cell_type": "code",
      "source": [
        "pip install scikit-optimize"
      ],
      "metadata": {
        "colab": {
          "base_uri": "https://localhost:8080/"
        },
        "id": "jIGVnLBiVGys",
        "outputId": "14796022-bde4-4115-d4ed-0b694a6addf8"
      },
      "execution_count": null,
      "outputs": [
        {
          "output_type": "stream",
          "name": "stdout",
          "text": [
            "Collecting scikit-optimize\n",
            "  Downloading scikit_optimize-0.9.0-py2.py3-none-any.whl (100 kB)\n",
            "\u001b[?25l\r\u001b[K     |███▎                            | 10 kB 21.8 MB/s eta 0:00:01\r\u001b[K     |██████▌                         | 20 kB 11.2 MB/s eta 0:00:01\r\u001b[K     |█████████▉                      | 30 kB 9.0 MB/s eta 0:00:01\r\u001b[K     |█████████████                   | 40 kB 8.3 MB/s eta 0:00:01\r\u001b[K     |████████████████▍               | 51 kB 4.3 MB/s eta 0:00:01\r\u001b[K     |███████████████████▋            | 61 kB 5.1 MB/s eta 0:00:01\r\u001b[K     |██████████████████████▉         | 71 kB 5.4 MB/s eta 0:00:01\r\u001b[K     |██████████████████████████▏     | 81 kB 5.6 MB/s eta 0:00:01\r\u001b[K     |█████████████████████████████▍  | 92 kB 6.2 MB/s eta 0:00:01\r\u001b[K     |████████████████████████████████| 100 kB 3.0 MB/s \n",
            "\u001b[?25hRequirement already satisfied: scikit-learn>=0.20.0 in /usr/local/lib/python3.7/dist-packages (from scikit-optimize) (1.0.2)\n",
            "Requirement already satisfied: joblib>=0.11 in /usr/local/lib/python3.7/dist-packages (from scikit-optimize) (1.1.0)\n",
            "Requirement already satisfied: numpy>=1.13.3 in /usr/local/lib/python3.7/dist-packages (from scikit-optimize) (1.21.5)\n",
            "Requirement already satisfied: scipy>=0.19.1 in /usr/local/lib/python3.7/dist-packages (from scikit-optimize) (1.4.1)\n",
            "Collecting pyaml>=16.9\n",
            "  Downloading pyaml-21.10.1-py2.py3-none-any.whl (24 kB)\n",
            "Requirement already satisfied: PyYAML in /usr/local/lib/python3.7/dist-packages (from pyaml>=16.9->scikit-optimize) (3.13)\n",
            "Requirement already satisfied: threadpoolctl>=2.0.0 in /usr/local/lib/python3.7/dist-packages (from scikit-learn>=0.20.0->scikit-optimize) (3.1.0)\n",
            "Installing collected packages: pyaml, scikit-optimize\n",
            "Successfully installed pyaml-21.10.1 scikit-optimize-0.9.0\n"
          ]
        }
      ]
    },
    {
      "cell_type": "code",
      "execution_count": null,
      "metadata": {
        "id": "rHhu19v_zGyz"
      },
      "outputs": [],
      "source": [
        "%matplotlib inline\n",
        "from sklearn.datasets import load_iris\n",
        "from sklearn import tree\n",
        "from sklearn.model_selection import cross_val_score, train_test_split, KFold, GridSearchCV, StratifiedKFold, cross_val_predict, RandomizedSearchCV\n",
        "import matplotlib.pyplot as plt\n",
        "import numpy as np\n",
        "import pandas as pd\n",
        "from sklearn.metrics import precision_score, recall_score, accuracy_score, auc, roc_curve, confusion_matrix, f1_score, matthews_corrcoef, make_scorer\n",
        "from sklearn import linear_model\n",
        "from sklearn.preprocessing import StandardScaler, OneHotEncoder, LabelEncoder, OrdinalEncoder, MinMaxScaler\n",
        "from sklearn import preprocessing\n",
        "from sklearn import linear_model, metrics, preprocessing\n",
        "from sklearn.neighbors import NearestNeighbors, KNeighborsClassifier\n",
        "from sklearn.svm import SVC\n",
        "import xgboost as xgb\n",
        "from xgboost import XGBClassifier\n",
        "from sklearn.neighbors import KNeighborsRegressor\n",
        "from sklearn.metrics import mean_squared_error, r2_score\n",
        "from sklearn.linear_model import LinearRegression\n",
        "from tensorflow import keras\n",
        "from sklearn.ensemble import RandomForestClassifier\n",
        "from sklearn.model_selection import cross_val_predict\n",
        "from sklearn.feature_selection import RFECV, RFE\n",
        "import numpy as np\n",
        "import pandas as pd\n",
        "import lightgbm as lgb\n",
        "from sklearn.metrics import roc_auc_score\n",
        "import seaborn as sns\n",
        "from skopt import BayesSearchCV\n",
        "from bayes_opt import BayesianOptimization"
      ]
    },
    {
      "cell_type": "code",
      "source": [
        "from google.colab import drive\n",
        "drive.mount('/content/drive')"
      ],
      "metadata": {
        "colab": {
          "base_uri": "https://localhost:8080/"
        },
        "id": "SxGZ6u5Ur_Jd",
        "outputId": "0192f7e7-976b-4a04-974e-556bded9d212"
      },
      "execution_count": null,
      "outputs": [
        {
          "output_type": "stream",
          "name": "stdout",
          "text": [
            "Mounted at /content/drive\n"
          ]
        }
      ]
    },
    {
      "cell_type": "markdown",
      "source": [
        "# Data Initialization"
      ],
      "metadata": {
        "id": "teeiR5IKVRHQ"
      }
    },
    {
      "cell_type": "code",
      "source": [
        "train = pd.read_csv('/content/drive/MyDrive/MSBA_6420_Project/train.csv')\n",
        "test = pd.read_csv('/content/drive/MyDrive/MSBA_6420_Project/test.csv')\n",
        "train.shape, test.shape"
      ],
      "metadata": {
        "colab": {
          "base_uri": "https://localhost:8080/"
        },
        "id": "xgUrZQTC0mp_",
        "outputId": "0a9a0efe-5d51-44bf-db60-8970fd777cb8"
      },
      "execution_count": null,
      "outputs": [
        {
          "output_type": "execute_result",
          "data": {
            "text/plain": [
              "((200000, 202), (200000, 201))"
            ]
          },
          "metadata": {},
          "execution_count": 5
        }
      ]
    },
    {
      "cell_type": "code",
      "source": [
        "train.head()"
      ],
      "metadata": {
        "colab": {
          "base_uri": "https://localhost:8080/",
          "height": 236
        },
        "id": "hAT68V-m1wBq",
        "outputId": "4af36db2-7501-4ae3-d4b4-a2ab17e80018"
      },
      "execution_count": null,
      "outputs": [
        {
          "output_type": "execute_result",
          "data": {
            "text/plain": [
              "   ID_code  target    var_0   var_1    var_2   var_3    var_4   var_5   var_6  \\\n",
              "0  train_0       0   8.9255 -6.7863  11.9081  5.0930  11.4607 -9.2834  5.1187   \n",
              "1  train_1       0  11.5006 -4.1473  13.8588  5.3890  12.3622  7.0433  5.6208   \n",
              "2  train_2       0   8.6093 -2.7457  12.0805  7.8928  10.5825 -9.0837  6.9427   \n",
              "3  train_3       0  11.0604 -2.1518   8.9522  7.1957  12.5846 -1.8361  5.8428   \n",
              "4  train_4       0   9.8369 -1.4834  12.8746  6.6375  12.2772  2.4486  5.9405   \n",
              "\n",
              "     var_7  ...  var_190  var_191  var_192  var_193  var_194  var_195  \\\n",
              "0  18.6266  ...   4.4354   3.9642   3.1364   1.6910  18.5227  -2.3978   \n",
              "1  16.5338  ...   7.6421   7.7214   2.5837  10.9516  15.4305   2.0339   \n",
              "2  14.6155  ...   2.9057   9.7905   1.6704   1.6858  21.6042   3.1417   \n",
              "3  14.9250  ...   4.4666   4.7433   0.7178   1.4214  23.0347  -1.2706   \n",
              "4  19.2514  ...  -1.4905   9.5214  -0.1508   9.1942  13.2876  -1.5121   \n",
              "\n",
              "   var_196  var_197  var_198  var_199  \n",
              "0   7.8784   8.5635  12.7803  -1.0914  \n",
              "1   8.1267   8.7889  18.3560   1.9518  \n",
              "2  -6.5213   8.2675  14.7222   0.3965  \n",
              "3  -2.9275  10.2922  17.9697  -8.9996  \n",
              "4   3.9267   9.5031  17.9974  -8.8104  \n",
              "\n",
              "[5 rows x 202 columns]"
            ],
            "text/html": [
              "\n",
              "  <div id=\"df-3fdd7f96-41f5-4b18-ab5a-682edb4c493b\">\n",
              "    <div class=\"colab-df-container\">\n",
              "      <div>\n",
              "<style scoped>\n",
              "    .dataframe tbody tr th:only-of-type {\n",
              "        vertical-align: middle;\n",
              "    }\n",
              "\n",
              "    .dataframe tbody tr th {\n",
              "        vertical-align: top;\n",
              "    }\n",
              "\n",
              "    .dataframe thead th {\n",
              "        text-align: right;\n",
              "    }\n",
              "</style>\n",
              "<table border=\"1\" class=\"dataframe\">\n",
              "  <thead>\n",
              "    <tr style=\"text-align: right;\">\n",
              "      <th></th>\n",
              "      <th>ID_code</th>\n",
              "      <th>target</th>\n",
              "      <th>var_0</th>\n",
              "      <th>var_1</th>\n",
              "      <th>var_2</th>\n",
              "      <th>var_3</th>\n",
              "      <th>var_4</th>\n",
              "      <th>var_5</th>\n",
              "      <th>var_6</th>\n",
              "      <th>var_7</th>\n",
              "      <th>...</th>\n",
              "      <th>var_190</th>\n",
              "      <th>var_191</th>\n",
              "      <th>var_192</th>\n",
              "      <th>var_193</th>\n",
              "      <th>var_194</th>\n",
              "      <th>var_195</th>\n",
              "      <th>var_196</th>\n",
              "      <th>var_197</th>\n",
              "      <th>var_198</th>\n",
              "      <th>var_199</th>\n",
              "    </tr>\n",
              "  </thead>\n",
              "  <tbody>\n",
              "    <tr>\n",
              "      <th>0</th>\n",
              "      <td>train_0</td>\n",
              "      <td>0</td>\n",
              "      <td>8.9255</td>\n",
              "      <td>-6.7863</td>\n",
              "      <td>11.9081</td>\n",
              "      <td>5.0930</td>\n",
              "      <td>11.4607</td>\n",
              "      <td>-9.2834</td>\n",
              "      <td>5.1187</td>\n",
              "      <td>18.6266</td>\n",
              "      <td>...</td>\n",
              "      <td>4.4354</td>\n",
              "      <td>3.9642</td>\n",
              "      <td>3.1364</td>\n",
              "      <td>1.6910</td>\n",
              "      <td>18.5227</td>\n",
              "      <td>-2.3978</td>\n",
              "      <td>7.8784</td>\n",
              "      <td>8.5635</td>\n",
              "      <td>12.7803</td>\n",
              "      <td>-1.0914</td>\n",
              "    </tr>\n",
              "    <tr>\n",
              "      <th>1</th>\n",
              "      <td>train_1</td>\n",
              "      <td>0</td>\n",
              "      <td>11.5006</td>\n",
              "      <td>-4.1473</td>\n",
              "      <td>13.8588</td>\n",
              "      <td>5.3890</td>\n",
              "      <td>12.3622</td>\n",
              "      <td>7.0433</td>\n",
              "      <td>5.6208</td>\n",
              "      <td>16.5338</td>\n",
              "      <td>...</td>\n",
              "      <td>7.6421</td>\n",
              "      <td>7.7214</td>\n",
              "      <td>2.5837</td>\n",
              "      <td>10.9516</td>\n",
              "      <td>15.4305</td>\n",
              "      <td>2.0339</td>\n",
              "      <td>8.1267</td>\n",
              "      <td>8.7889</td>\n",
              "      <td>18.3560</td>\n",
              "      <td>1.9518</td>\n",
              "    </tr>\n",
              "    <tr>\n",
              "      <th>2</th>\n",
              "      <td>train_2</td>\n",
              "      <td>0</td>\n",
              "      <td>8.6093</td>\n",
              "      <td>-2.7457</td>\n",
              "      <td>12.0805</td>\n",
              "      <td>7.8928</td>\n",
              "      <td>10.5825</td>\n",
              "      <td>-9.0837</td>\n",
              "      <td>6.9427</td>\n",
              "      <td>14.6155</td>\n",
              "      <td>...</td>\n",
              "      <td>2.9057</td>\n",
              "      <td>9.7905</td>\n",
              "      <td>1.6704</td>\n",
              "      <td>1.6858</td>\n",
              "      <td>21.6042</td>\n",
              "      <td>3.1417</td>\n",
              "      <td>-6.5213</td>\n",
              "      <td>8.2675</td>\n",
              "      <td>14.7222</td>\n",
              "      <td>0.3965</td>\n",
              "    </tr>\n",
              "    <tr>\n",
              "      <th>3</th>\n",
              "      <td>train_3</td>\n",
              "      <td>0</td>\n",
              "      <td>11.0604</td>\n",
              "      <td>-2.1518</td>\n",
              "      <td>8.9522</td>\n",
              "      <td>7.1957</td>\n",
              "      <td>12.5846</td>\n",
              "      <td>-1.8361</td>\n",
              "      <td>5.8428</td>\n",
              "      <td>14.9250</td>\n",
              "      <td>...</td>\n",
              "      <td>4.4666</td>\n",
              "      <td>4.7433</td>\n",
              "      <td>0.7178</td>\n",
              "      <td>1.4214</td>\n",
              "      <td>23.0347</td>\n",
              "      <td>-1.2706</td>\n",
              "      <td>-2.9275</td>\n",
              "      <td>10.2922</td>\n",
              "      <td>17.9697</td>\n",
              "      <td>-8.9996</td>\n",
              "    </tr>\n",
              "    <tr>\n",
              "      <th>4</th>\n",
              "      <td>train_4</td>\n",
              "      <td>0</td>\n",
              "      <td>9.8369</td>\n",
              "      <td>-1.4834</td>\n",
              "      <td>12.8746</td>\n",
              "      <td>6.6375</td>\n",
              "      <td>12.2772</td>\n",
              "      <td>2.4486</td>\n",
              "      <td>5.9405</td>\n",
              "      <td>19.2514</td>\n",
              "      <td>...</td>\n",
              "      <td>-1.4905</td>\n",
              "      <td>9.5214</td>\n",
              "      <td>-0.1508</td>\n",
              "      <td>9.1942</td>\n",
              "      <td>13.2876</td>\n",
              "      <td>-1.5121</td>\n",
              "      <td>3.9267</td>\n",
              "      <td>9.5031</td>\n",
              "      <td>17.9974</td>\n",
              "      <td>-8.8104</td>\n",
              "    </tr>\n",
              "  </tbody>\n",
              "</table>\n",
              "<p>5 rows × 202 columns</p>\n",
              "</div>\n",
              "      <button class=\"colab-df-convert\" onclick=\"convertToInteractive('df-3fdd7f96-41f5-4b18-ab5a-682edb4c493b')\"\n",
              "              title=\"Convert this dataframe to an interactive table.\"\n",
              "              style=\"display:none;\">\n",
              "        \n",
              "  <svg xmlns=\"http://www.w3.org/2000/svg\" height=\"24px\"viewBox=\"0 0 24 24\"\n",
              "       width=\"24px\">\n",
              "    <path d=\"M0 0h24v24H0V0z\" fill=\"none\"/>\n",
              "    <path d=\"M18.56 5.44l.94 2.06.94-2.06 2.06-.94-2.06-.94-.94-2.06-.94 2.06-2.06.94zm-11 1L8.5 8.5l.94-2.06 2.06-.94-2.06-.94L8.5 2.5l-.94 2.06-2.06.94zm10 10l.94 2.06.94-2.06 2.06-.94-2.06-.94-.94-2.06-.94 2.06-2.06.94z\"/><path d=\"M17.41 7.96l-1.37-1.37c-.4-.4-.92-.59-1.43-.59-.52 0-1.04.2-1.43.59L10.3 9.45l-7.72 7.72c-.78.78-.78 2.05 0 2.83L4 21.41c.39.39.9.59 1.41.59.51 0 1.02-.2 1.41-.59l7.78-7.78 2.81-2.81c.8-.78.8-2.07 0-2.86zM5.41 20L4 18.59l7.72-7.72 1.47 1.35L5.41 20z\"/>\n",
              "  </svg>\n",
              "      </button>\n",
              "      \n",
              "  <style>\n",
              "    .colab-df-container {\n",
              "      display:flex;\n",
              "      flex-wrap:wrap;\n",
              "      gap: 12px;\n",
              "    }\n",
              "\n",
              "    .colab-df-convert {\n",
              "      background-color: #E8F0FE;\n",
              "      border: none;\n",
              "      border-radius: 50%;\n",
              "      cursor: pointer;\n",
              "      display: none;\n",
              "      fill: #1967D2;\n",
              "      height: 32px;\n",
              "      padding: 0 0 0 0;\n",
              "      width: 32px;\n",
              "    }\n",
              "\n",
              "    .colab-df-convert:hover {\n",
              "      background-color: #E2EBFA;\n",
              "      box-shadow: 0px 1px 2px rgba(60, 64, 67, 0.3), 0px 1px 3px 1px rgba(60, 64, 67, 0.15);\n",
              "      fill: #174EA6;\n",
              "    }\n",
              "\n",
              "    [theme=dark] .colab-df-convert {\n",
              "      background-color: #3B4455;\n",
              "      fill: #D2E3FC;\n",
              "    }\n",
              "\n",
              "    [theme=dark] .colab-df-convert:hover {\n",
              "      background-color: #434B5C;\n",
              "      box-shadow: 0px 1px 3px 1px rgba(0, 0, 0, 0.15);\n",
              "      filter: drop-shadow(0px 1px 2px rgba(0, 0, 0, 0.3));\n",
              "      fill: #FFFFFF;\n",
              "    }\n",
              "  </style>\n",
              "\n",
              "      <script>\n",
              "        const buttonEl =\n",
              "          document.querySelector('#df-3fdd7f96-41f5-4b18-ab5a-682edb4c493b button.colab-df-convert');\n",
              "        buttonEl.style.display =\n",
              "          google.colab.kernel.accessAllowed ? 'block' : 'none';\n",
              "\n",
              "        async function convertToInteractive(key) {\n",
              "          const element = document.querySelector('#df-3fdd7f96-41f5-4b18-ab5a-682edb4c493b');\n",
              "          const dataTable =\n",
              "            await google.colab.kernel.invokeFunction('convertToInteractive',\n",
              "                                                     [key], {});\n",
              "          if (!dataTable) return;\n",
              "\n",
              "          const docLinkHtml = 'Like what you see? Visit the ' +\n",
              "            '<a target=\"_blank\" href=https://colab.research.google.com/notebooks/data_table.ipynb>data table notebook</a>'\n",
              "            + ' to learn more about interactive tables.';\n",
              "          element.innerHTML = '';\n",
              "          dataTable['output_type'] = 'display_data';\n",
              "          await google.colab.output.renderOutput(dataTable, element);\n",
              "          const docLink = document.createElement('div');\n",
              "          docLink.innerHTML = docLinkHtml;\n",
              "          element.appendChild(docLink);\n",
              "        }\n",
              "      </script>\n",
              "    </div>\n",
              "  </div>\n",
              "  "
            ]
          },
          "metadata": {},
          "execution_count": 6
        }
      ]
    },
    {
      "cell_type": "code",
      "source": [
        "test.head()"
      ],
      "metadata": {
        "colab": {
          "base_uri": "https://localhost:8080/",
          "height": 236
        },
        "id": "VE8sIYku56eG",
        "outputId": "e49fa4e3-4350-49aa-b2e1-f45cd9907144"
      },
      "execution_count": null,
      "outputs": [
        {
          "output_type": "execute_result",
          "data": {
            "text/plain": [
              "  ID_code    var_0    var_1    var_2   var_3    var_4   var_5   var_6  \\\n",
              "0  test_0  11.0656   7.7798  12.9536  9.4292  11.4327 -2.3805  5.8493   \n",
              "1  test_1   8.5304   1.2543  11.3047  5.1858   9.1974 -4.0117  6.0196   \n",
              "2  test_2   5.4827 -10.3581  10.1407  7.0479  10.2628  9.8052  4.8950   \n",
              "3  test_3   8.5374  -1.3222  12.0220  6.5749   8.8458  3.1744  4.9397   \n",
              "4  test_4  11.7058  -0.1327  14.1295  7.7506   9.1035 -8.5848  6.8595   \n",
              "\n",
              "     var_7   var_8  ...  var_190  var_191  var_192  var_193  var_194  var_195  \\\n",
              "0  18.2675  2.1337  ...  -2.1556  11.8495  -1.4300   2.4508  13.7112   2.4669   \n",
              "1  18.6316 -4.4131  ...  10.6165   8.8349   0.9403  10.1282  15.5765   0.4773   \n",
              "2  20.2537  1.5233  ...  -0.7484  10.9935   1.9803   2.1800  12.9813   2.1281   \n",
              "3  20.5660  3.3755  ...   9.5702   9.0766   1.6580   3.5813  15.1874   3.1656   \n",
              "4  10.6048  2.9890  ...   4.2259   9.1723   1.2835   3.3778  19.5542  -0.2860   \n",
              "\n",
              "   var_196  var_197  var_198  var_199  \n",
              "0   4.3654  10.7200  15.4722  -8.7197  \n",
              "1  -1.4852   9.8714  19.1293 -20.9760  \n",
              "2  -7.1086   7.0618  19.8956 -23.1794  \n",
              "3   3.9567   9.2295  13.0168  -4.2108  \n",
              "4  -5.1612   7.2882  13.9260  -9.1846  \n",
              "\n",
              "[5 rows x 201 columns]"
            ],
            "text/html": [
              "\n",
              "  <div id=\"df-66441701-317f-4411-a7e0-41b9b20bdae6\">\n",
              "    <div class=\"colab-df-container\">\n",
              "      <div>\n",
              "<style scoped>\n",
              "    .dataframe tbody tr th:only-of-type {\n",
              "        vertical-align: middle;\n",
              "    }\n",
              "\n",
              "    .dataframe tbody tr th {\n",
              "        vertical-align: top;\n",
              "    }\n",
              "\n",
              "    .dataframe thead th {\n",
              "        text-align: right;\n",
              "    }\n",
              "</style>\n",
              "<table border=\"1\" class=\"dataframe\">\n",
              "  <thead>\n",
              "    <tr style=\"text-align: right;\">\n",
              "      <th></th>\n",
              "      <th>ID_code</th>\n",
              "      <th>var_0</th>\n",
              "      <th>var_1</th>\n",
              "      <th>var_2</th>\n",
              "      <th>var_3</th>\n",
              "      <th>var_4</th>\n",
              "      <th>var_5</th>\n",
              "      <th>var_6</th>\n",
              "      <th>var_7</th>\n",
              "      <th>var_8</th>\n",
              "      <th>...</th>\n",
              "      <th>var_190</th>\n",
              "      <th>var_191</th>\n",
              "      <th>var_192</th>\n",
              "      <th>var_193</th>\n",
              "      <th>var_194</th>\n",
              "      <th>var_195</th>\n",
              "      <th>var_196</th>\n",
              "      <th>var_197</th>\n",
              "      <th>var_198</th>\n",
              "      <th>var_199</th>\n",
              "    </tr>\n",
              "  </thead>\n",
              "  <tbody>\n",
              "    <tr>\n",
              "      <th>0</th>\n",
              "      <td>test_0</td>\n",
              "      <td>11.0656</td>\n",
              "      <td>7.7798</td>\n",
              "      <td>12.9536</td>\n",
              "      <td>9.4292</td>\n",
              "      <td>11.4327</td>\n",
              "      <td>-2.3805</td>\n",
              "      <td>5.8493</td>\n",
              "      <td>18.2675</td>\n",
              "      <td>2.1337</td>\n",
              "      <td>...</td>\n",
              "      <td>-2.1556</td>\n",
              "      <td>11.8495</td>\n",
              "      <td>-1.4300</td>\n",
              "      <td>2.4508</td>\n",
              "      <td>13.7112</td>\n",
              "      <td>2.4669</td>\n",
              "      <td>4.3654</td>\n",
              "      <td>10.7200</td>\n",
              "      <td>15.4722</td>\n",
              "      <td>-8.7197</td>\n",
              "    </tr>\n",
              "    <tr>\n",
              "      <th>1</th>\n",
              "      <td>test_1</td>\n",
              "      <td>8.5304</td>\n",
              "      <td>1.2543</td>\n",
              "      <td>11.3047</td>\n",
              "      <td>5.1858</td>\n",
              "      <td>9.1974</td>\n",
              "      <td>-4.0117</td>\n",
              "      <td>6.0196</td>\n",
              "      <td>18.6316</td>\n",
              "      <td>-4.4131</td>\n",
              "      <td>...</td>\n",
              "      <td>10.6165</td>\n",
              "      <td>8.8349</td>\n",
              "      <td>0.9403</td>\n",
              "      <td>10.1282</td>\n",
              "      <td>15.5765</td>\n",
              "      <td>0.4773</td>\n",
              "      <td>-1.4852</td>\n",
              "      <td>9.8714</td>\n",
              "      <td>19.1293</td>\n",
              "      <td>-20.9760</td>\n",
              "    </tr>\n",
              "    <tr>\n",
              "      <th>2</th>\n",
              "      <td>test_2</td>\n",
              "      <td>5.4827</td>\n",
              "      <td>-10.3581</td>\n",
              "      <td>10.1407</td>\n",
              "      <td>7.0479</td>\n",
              "      <td>10.2628</td>\n",
              "      <td>9.8052</td>\n",
              "      <td>4.8950</td>\n",
              "      <td>20.2537</td>\n",
              "      <td>1.5233</td>\n",
              "      <td>...</td>\n",
              "      <td>-0.7484</td>\n",
              "      <td>10.9935</td>\n",
              "      <td>1.9803</td>\n",
              "      <td>2.1800</td>\n",
              "      <td>12.9813</td>\n",
              "      <td>2.1281</td>\n",
              "      <td>-7.1086</td>\n",
              "      <td>7.0618</td>\n",
              "      <td>19.8956</td>\n",
              "      <td>-23.1794</td>\n",
              "    </tr>\n",
              "    <tr>\n",
              "      <th>3</th>\n",
              "      <td>test_3</td>\n",
              "      <td>8.5374</td>\n",
              "      <td>-1.3222</td>\n",
              "      <td>12.0220</td>\n",
              "      <td>6.5749</td>\n",
              "      <td>8.8458</td>\n",
              "      <td>3.1744</td>\n",
              "      <td>4.9397</td>\n",
              "      <td>20.5660</td>\n",
              "      <td>3.3755</td>\n",
              "      <td>...</td>\n",
              "      <td>9.5702</td>\n",
              "      <td>9.0766</td>\n",
              "      <td>1.6580</td>\n",
              "      <td>3.5813</td>\n",
              "      <td>15.1874</td>\n",
              "      <td>3.1656</td>\n",
              "      <td>3.9567</td>\n",
              "      <td>9.2295</td>\n",
              "      <td>13.0168</td>\n",
              "      <td>-4.2108</td>\n",
              "    </tr>\n",
              "    <tr>\n",
              "      <th>4</th>\n",
              "      <td>test_4</td>\n",
              "      <td>11.7058</td>\n",
              "      <td>-0.1327</td>\n",
              "      <td>14.1295</td>\n",
              "      <td>7.7506</td>\n",
              "      <td>9.1035</td>\n",
              "      <td>-8.5848</td>\n",
              "      <td>6.8595</td>\n",
              "      <td>10.6048</td>\n",
              "      <td>2.9890</td>\n",
              "      <td>...</td>\n",
              "      <td>4.2259</td>\n",
              "      <td>9.1723</td>\n",
              "      <td>1.2835</td>\n",
              "      <td>3.3778</td>\n",
              "      <td>19.5542</td>\n",
              "      <td>-0.2860</td>\n",
              "      <td>-5.1612</td>\n",
              "      <td>7.2882</td>\n",
              "      <td>13.9260</td>\n",
              "      <td>-9.1846</td>\n",
              "    </tr>\n",
              "  </tbody>\n",
              "</table>\n",
              "<p>5 rows × 201 columns</p>\n",
              "</div>\n",
              "      <button class=\"colab-df-convert\" onclick=\"convertToInteractive('df-66441701-317f-4411-a7e0-41b9b20bdae6')\"\n",
              "              title=\"Convert this dataframe to an interactive table.\"\n",
              "              style=\"display:none;\">\n",
              "        \n",
              "  <svg xmlns=\"http://www.w3.org/2000/svg\" height=\"24px\"viewBox=\"0 0 24 24\"\n",
              "       width=\"24px\">\n",
              "    <path d=\"M0 0h24v24H0V0z\" fill=\"none\"/>\n",
              "    <path d=\"M18.56 5.44l.94 2.06.94-2.06 2.06-.94-2.06-.94-.94-2.06-.94 2.06-2.06.94zm-11 1L8.5 8.5l.94-2.06 2.06-.94-2.06-.94L8.5 2.5l-.94 2.06-2.06.94zm10 10l.94 2.06.94-2.06 2.06-.94-2.06-.94-.94-2.06-.94 2.06-2.06.94z\"/><path d=\"M17.41 7.96l-1.37-1.37c-.4-.4-.92-.59-1.43-.59-.52 0-1.04.2-1.43.59L10.3 9.45l-7.72 7.72c-.78.78-.78 2.05 0 2.83L4 21.41c.39.39.9.59 1.41.59.51 0 1.02-.2 1.41-.59l7.78-7.78 2.81-2.81c.8-.78.8-2.07 0-2.86zM5.41 20L4 18.59l7.72-7.72 1.47 1.35L5.41 20z\"/>\n",
              "  </svg>\n",
              "      </button>\n",
              "      \n",
              "  <style>\n",
              "    .colab-df-container {\n",
              "      display:flex;\n",
              "      flex-wrap:wrap;\n",
              "      gap: 12px;\n",
              "    }\n",
              "\n",
              "    .colab-df-convert {\n",
              "      background-color: #E8F0FE;\n",
              "      border: none;\n",
              "      border-radius: 50%;\n",
              "      cursor: pointer;\n",
              "      display: none;\n",
              "      fill: #1967D2;\n",
              "      height: 32px;\n",
              "      padding: 0 0 0 0;\n",
              "      width: 32px;\n",
              "    }\n",
              "\n",
              "    .colab-df-convert:hover {\n",
              "      background-color: #E2EBFA;\n",
              "      box-shadow: 0px 1px 2px rgba(60, 64, 67, 0.3), 0px 1px 3px 1px rgba(60, 64, 67, 0.15);\n",
              "      fill: #174EA6;\n",
              "    }\n",
              "\n",
              "    [theme=dark] .colab-df-convert {\n",
              "      background-color: #3B4455;\n",
              "      fill: #D2E3FC;\n",
              "    }\n",
              "\n",
              "    [theme=dark] .colab-df-convert:hover {\n",
              "      background-color: #434B5C;\n",
              "      box-shadow: 0px 1px 3px 1px rgba(0, 0, 0, 0.15);\n",
              "      filter: drop-shadow(0px 1px 2px rgba(0, 0, 0, 0.3));\n",
              "      fill: #FFFFFF;\n",
              "    }\n",
              "  </style>\n",
              "\n",
              "      <script>\n",
              "        const buttonEl =\n",
              "          document.querySelector('#df-66441701-317f-4411-a7e0-41b9b20bdae6 button.colab-df-convert');\n",
              "        buttonEl.style.display =\n",
              "          google.colab.kernel.accessAllowed ? 'block' : 'none';\n",
              "\n",
              "        async function convertToInteractive(key) {\n",
              "          const element = document.querySelector('#df-66441701-317f-4411-a7e0-41b9b20bdae6');\n",
              "          const dataTable =\n",
              "            await google.colab.kernel.invokeFunction('convertToInteractive',\n",
              "                                                     [key], {});\n",
              "          if (!dataTable) return;\n",
              "\n",
              "          const docLinkHtml = 'Like what you see? Visit the ' +\n",
              "            '<a target=\"_blank\" href=https://colab.research.google.com/notebooks/data_table.ipynb>data table notebook</a>'\n",
              "            + ' to learn more about interactive tables.';\n",
              "          element.innerHTML = '';\n",
              "          dataTable['output_type'] = 'display_data';\n",
              "          await google.colab.output.renderOutput(dataTable, element);\n",
              "          const docLink = document.createElement('div');\n",
              "          docLink.innerHTML = docLinkHtml;\n",
              "          element.appendChild(docLink);\n",
              "        }\n",
              "      </script>\n",
              "    </div>\n",
              "  </div>\n",
              "  "
            ]
          },
          "metadata": {},
          "execution_count": 7
        }
      ]
    },
    {
      "cell_type": "markdown",
      "source": [
        "# EDA"
      ],
      "metadata": {
        "id": "s5tIlssmVY9i"
      }
    },
    {
      "cell_type": "code",
      "source": [
        "# Check for Class Imbalance\n",
        "train.groupby('target').size().plot(kind='pie',y = \"target\",label = \"Type\",autopct='%1.1f%%')"
      ],
      "metadata": {
        "colab": {
          "base_uri": "https://localhost:8080/"
        },
        "id": "R4gmY66j56g2",
        "outputId": "3e9a8433-b1a6-469c-e66a-011ef655fadb"
      },
      "execution_count": null,
      "outputs": [
        {
          "output_type": "execute_result",
          "data": {
            "text/plain": [
              "<matplotlib.axes._subplots.AxesSubplot at 0x7f4bfeb03c50>"
            ]
          },
          "metadata": {},
          "execution_count": 7
        },
        {
          "output_type": "display_data",
          "data": {
            "text/plain": [
              "<Figure size 432x288 with 1 Axes>"
            ],
            "image/png": "[encoded data removed]"
          },
          "metadata": {}
        }
      ]
    },
    {
      "cell_type": "code",
      "source": [
        "# no missing values\n",
        "train.isnull().any().any()\n",
        "test.isnull().any().any()"
      ],
      "metadata": {
        "colab": {
          "base_uri": "https://localhost:8080/"
        },
        "id": "v0UAa_rr56j7",
        "outputId": "dc7fc33e-5999-4235-ce2c-272a7672a587"
      },
      "execution_count": null,
      "outputs": [
        {
          "output_type": "execute_result",
          "data": {
            "text/plain": [
              "False"
            ]
          },
          "metadata": {},
          "execution_count": 8
        }
      ]
    },
    {
      "cell_type": "code",
      "source": [
        "fig, axs = plt.subplots(1, 2, figsize=(10, 5), sharey=True)\n",
        "axs[0].hist(train[train.columns[2:]].std())\n",
        "axs[1].hist(test[test.columns[1:]].std())\n",
        "fig.suptitle('Distribution of stds of all columns in Train/Test')"
      ],
      "metadata": {
        "colab": {
          "base_uri": "https://localhost:8080/"
        },
        "id": "KEKxAAM156mY",
        "outputId": "768b5040-6bf7-4ef4-cdf6-ace057f0cfe3"
      },
      "execution_count": null,
      "outputs": [
        {
          "output_type": "execute_result",
          "data": {
            "text/plain": [
              "Text(0.5, 0.98, 'Distribution of stds of all columns in Train/Test')"
            ]
          },
          "metadata": {},
          "execution_count": 9
        },
        {
          "output_type": "display_data",
          "data": {
            "text/plain": [
              "<Figure size 720x360 with 2 Axes>"
            ],
            "image/png": "[encoded data removed]"
          },
          "metadata": {
            "needs_background": "light"
          }
        }
      ]
    },
    {
      "cell_type": "code",
      "source": [
        "diff_std = train[train.columns[2:]].std()-test[test.columns[1:]].std()\n",
        "diff_std.plot()\n",
        "plt.ylim(-1, 1)\n",
        "plt.title(\"Difference in Features' STD for Train/Test\")\n",
        "plt.show()"
      ],
      "metadata": {
        "colab": {
          "base_uri": "https://localhost:8080/"
        },
        "id": "QNTzdvJr56pQ",
        "outputId": "69930ad8-a0d7-47c2-993a-586e68b5d5ff"
      },
      "execution_count": null,
      "outputs": [
        {
          "output_type": "display_data",
          "data": {
            "text/plain": [
              "<Figure size 432x288 with 1 Axes>"
            ],
            "image/png": "[encoded data removed]"
          },
          "metadata": {
            "needs_background": "light"
          }
        }
      ]
    },
    {
      "cell_type": "code",
      "source": [
        "fig, axs = plt.subplots(1, 2, figsize=(10, 5), sharey=True)\n",
        "axs[0].hist(train[train.columns[2:]].mean())\n",
        "axs[1].hist(test[test.columns[1:]].mean())\n",
        "fig.suptitle('Distribution of means of all columns in Train/Test')"
      ],
      "metadata": {
        "colab": {
          "base_uri": "https://localhost:8080/"
        },
        "id": "IZlt_lCV56s3",
        "outputId": "0ee4c238-167f-4b56-9c23-ceccbddcf887"
      },
      "execution_count": null,
      "outputs": [
        {
          "output_type": "execute_result",
          "data": {
            "text/plain": [
              "Text(0.5, 0.98, 'Distribution of means of all columns in Train/Test')"
            ]
          },
          "metadata": {},
          "execution_count": 11
        },
        {
          "output_type": "display_data",
          "data": {
            "text/plain": [
              "<Figure size 720x360 with 2 Axes>"
            ],
            "image/png": "[encoded data removed]"
          },
          "metadata": {
            "needs_background": "light"
          }
        }
      ]
    },
    {
      "cell_type": "code",
      "source": [
        "diff_mean = train[train.columns[2:]].mean()-test[test.columns[1:]].mean()\n",
        "diff_mean.plot()\n",
        "plt.ylim(-1, 1)\n",
        "plt.title(\"Difference in Features' Mean for Train/Test\")\n",
        "plt.show()"
      ],
      "metadata": {
        "colab": {
          "base_uri": "https://localhost:8080/"
        },
        "id": "5CtMbB3s56wC",
        "outputId": "75396eda-586c-4ad9-bf97-c1d02ced7655"
      },
      "execution_count": null,
      "outputs": [
        {
          "output_type": "display_data",
          "data": {
            "text/plain": [
              "<Figure size 432x288 with 1 Axes>"
            ],
            "image/png": "[encoded data removed]"
          },
          "metadata": {
            "needs_background": "light"
          }
        }
      ]
    },
    {
      "cell_type": "markdown",
      "source": [
        "We can see that there is no big correlation between features both in training and testing dataset. Beside, there is also no strong correlation between features and the target. So we choose not to use techniques to eliminate the correlated features, but to use all the features."
      ],
      "metadata": {
        "id": "D0TWRJZ86WS6"
      }
    },
    {
      "cell_type": "code",
      "source": [
        "# correlation\n",
        "train_cor = train.drop([\"target\",\"ID_code\"], axis=1).corr()\n",
        "train_cor = train_cor.values.flatten()\n",
        "train_cor = train_cor[train_cor != 1]\n",
        "\n",
        "test_cor = test.drop([\"ID_code\"], axis=1).corr()\n",
        "test_cor = test_cor.values.flatten()\n",
        "test_cor = test_cor[test_cor!= 1]\n",
        "\n",
        "plt.figure(figsize=(15,5))\n",
        "sns.histplot(train_cor, color=\"orange\", label=\"train\", alpha=0.4)\n",
        "sns.histplot(test_cor, color=\"aqua\", label=\"test\", alpha=0.4)\n",
        "plt.xlabel(\"Correlation values found in train/test\")\n",
        "plt.ylabel(\"Density\")\n",
        "plt.title(\"Are there correlations between features?\"); \n",
        "plt.legend()"
      ],
      "metadata": {
        "colab": {
          "base_uri": "https://localhost:8080/"
        },
        "id": "5hYggsMs5621",
        "outputId": "d3e5ca0c-0af1-47c1-bb70-b1c55269f576"
      },
      "execution_count": null,
      "outputs": [
        {
          "output_type": "execute_result",
          "data": {
            "text/plain": [
              "<matplotlib.legend.Legend at 0x7f4bfdbf97d0>"
            ]
          },
          "metadata": {},
          "execution_count": 13
        },
        {
          "output_type": "display_data",
          "data": {
            "text/plain": [
              "<Figure size 1080x360 with 1 Axes>"
            ],
            "image/png": "[encoded data removed]"
          },
          "metadata": {
            "needs_background": "light"
          }
        }
      ]
    },
    {
      "cell_type": "code",
      "source": [
        "# Correlation between features and target\n",
        "corr_target = train[train.columns[1:]].corr()['target'][1:]\n",
        "corr_target.plot()\n",
        "plt.ylim(-1, 1)\n",
        "plt.title(\"Correlation Between Features and Target\")\n",
        "plt.show()"
      ],
      "metadata": {
        "colab": {
          "base_uri": "https://localhost:8080/"
        },
        "id": "JWlyL6R7565r",
        "outputId": "e1d1bacf-2cde-43d9-8a2c-b9ac15fb5573"
      },
      "execution_count": null,
      "outputs": [
        {
          "output_type": "display_data",
          "data": {
            "text/plain": [
              "<Figure size 432x288 with 1 Axes>"
            ],
            "image/png": "[encoded data removed]"
          },
          "metadata": {
            "needs_background": "light"
          }
        }
      ]
    },
    {
      "cell_type": "markdown",
      "source": [
        "According to many discussions in Kaggle, there are some synthetic samples in the test data.\n",
        "\n",
        "https://www.kaggle.com/code/yag320/list-of-fake-samples-and-public-private-lb-split\n",
        "\n",
        "https://github.com/btrotta/kaggle-santander-2019"
      ],
      "metadata": {
        "id": "Dj0f9jIa6i4r"
      }
    },
    {
      "cell_type": "code",
      "source": [
        "# distribution of the number of unique values in each row over columns\n",
        "train_nunique = train.drop([\"target\",\"ID_code\"], axis=1).nunique()\n",
        "test_nunique = test.drop([\"ID_code\"], axis=1).nunique()"
      ],
      "metadata": {
        "id": "xIu6tMWS568X"
      },
      "execution_count": null,
      "outputs": []
    },
    {
      "cell_type": "markdown",
      "source": [
        "We can see that the training data have much more unique values than the testing data."
      ],
      "metadata": {
        "id": "p2c34lno6smB"
      }
    },
    {
      "cell_type": "code",
      "source": [
        "fig, axs = plt.subplots(1, 2, figsize=(14, 7), sharey=True)\n",
        "axs[0].hist(train_nunique)\n",
        "axs[1].hist(test_nunique)\n",
        "fig.suptitle('Distribution of Number of Unique Values in Train/Test')"
      ],
      "metadata": {
        "colab": {
          "base_uri": "https://localhost:8080/"
        },
        "id": "vWzuqXk56pah",
        "outputId": "bef0d5d4-4ae1-460c-cb9b-4a09178f5264"
      },
      "execution_count": null,
      "outputs": [
        {
          "output_type": "execute_result",
          "data": {
            "text/plain": [
              "Text(0.5, 0.98, 'Distribution of Number of Unique Values in Train/Test')"
            ]
          },
          "metadata": {},
          "execution_count": 8
        },
        {
          "output_type": "display_data",
          "data": {
            "text/plain": [
              "<Figure size 1008x504 with 2 Axes>"
            ],
            "image/png": "[encoded data removed]"
          },
          "metadata": {
            "needs_background": "light"
          }
        }
      ]
    },
    {
      "cell_type": "markdown",
      "source": [
        "# Feature Engineering/Creating Synthetic Data"
      ],
      "metadata": {
        "id": "d1_elAmqVg6n"
      }
    },
    {
      "cell_type": "markdown",
      "source": [
        "If none of the values in a row is unique, we identify this row as synthetic data."
      ],
      "metadata": {
        "id": "YMkGvmwr7CSK"
      }
    },
    {
      "cell_type": "code",
      "source": [
        "# identify the fake test data\n",
        "feature_names = train.columns.values.tolist()[2:]\n",
        "unique_value = {}\n",
        "\n",
        "for i in feature_names:\n",
        "    sizes = test.groupby(i)['ID_code'].size()\n",
        "    unique_value[i] = sizes.loc[sizes == 1].index\n",
        "unique_bool = test.copy()\n",
        "\n",
        "for i in feature_names:\n",
        "    unique_bool[i] = test[i].isin(unique_value[i])\n",
        "num_unique = unique_bool[feature_names].sum(axis=1)\n",
        "test_real = test.loc[num_unique > 0]"
      ],
      "metadata": {
        "id": "Igkn9QQKzaQ3"
      },
      "execution_count": null,
      "outputs": []
    },
    {
      "cell_type": "code",
      "source": [
        "# add the counts\n",
        "# if some values repeat more times than other values, this means these signals are more important\n",
        "all_data = pd.concat([train, test], ignore_index=True, sort=True).reset_index()\n",
        "count_data = pd.concat([train, test_real], axis=0, sort=True)\n",
        "for c in train.columns.values.tolist()[2:]:\n",
        "    all_size = count_data.groupby(c)['ID_code'].size().to_frame(c + '_size')\n",
        "    count_data['rank'] = count_data[c].rank(method='first')\n",
        "    count_data['bin'] = (count_data['rank'] - 1) // 300\n",
        "    count_data['size'] = count_data.groupby(c)['ID_code'].transform('size')\n",
        "    count_data['avg_size_in_bin'] = count_data.groupby('bin')['size'].transform('mean')\n",
        "    count_data[c + '_size_scaled'] = count_data['size'] / count_data['avg_size_in_bin']\n",
        "    all_size[c + '_size_scaled'] = count_data.groupby(c)[c + '_size_scaled'].first()\n",
        "    all_data = pd.merge(all_data, all_size, 'left', left_on=c, right_index=True)"
      ],
      "metadata": {
        "colab": {
          "base_uri": "https://localhost:8080/"
        },
        "id": "ZxliXSmB1IQf",
        "outputId": "8f8dadc0-c563-4a4b-fd73-18b0804cd260"
      },
      "execution_count": null,
      "outputs": [
        {
          "output_type": "stream",
          "name": "stderr",
          "text": [
            "/usr/local/lib/python3.7/dist-packages/ipykernel_launcher.py:11: PerformanceWarning: DataFrame is highly fragmented.  This is usually the result of calling `frame.insert` many times, which has poor performance.  Consider joining all columns at once using pd.concat(axis=1) instead.  To get a de-fragmented frame, use `newframe = frame.copy()`\n",
            "  # This is added back by InteractiveShellApp.init_path()\n"
          ]
        }
      ]
    },
    {
      "cell_type": "code",
      "source": [
        "train = all_data.loc[all_data['target'].notnull()].copy()\n",
        "test = all_data.loc[all_data['target'].isnull()].copy()"
      ],
      "metadata": {
        "id": "sGkSTwVc1IUN"
      },
      "execution_count": null,
      "outputs": []
    },
    {
      "cell_type": "code",
      "source": [
        "train.drop(['index'], axis=1, inplace=True)\n",
        "test.drop(['index','target'], axis=1, inplace=True)"
      ],
      "metadata": {
        "id": "584X2BxB-UOV"
      },
      "execution_count": null,
      "outputs": []
    },
    {
      "cell_type": "code",
      "source": [
        "train.drop(['ID_code'], axis=1, inplace=True)\n",
        "test.drop(['ID_code'], axis=1, inplace=True)"
      ],
      "metadata": {
        "id": "Zpxj_e2muoxY"
      },
      "execution_count": null,
      "outputs": []
    },
    {
      "cell_type": "code",
      "source": [
        "train.head()"
      ],
      "metadata": {
        "colab": {
          "base_uri": "https://localhost:8080/",
          "height": 300
        },
        "id": "s8aKpu5K1IYa",
        "outputId": "e0fd7d57-eae4-4cc2-9070-6f89d8ae03e0"
      },
      "execution_count": null,
      "outputs": [
        {
          "output_type": "execute_result",
          "data": {
            "text/plain": [
              "   target    var_0   var_1  var_10  var_100  var_101  var_102  var_103  \\\n",
              "0     0.0   8.9255 -6.7863  2.9252   9.4763  13.3102  26.5376   1.4403   \n",
              "1     0.0  11.5006 -4.1473 -0.4032 -13.6950   8.4068  35.4734   1.7093   \n",
              "2     0.0   8.6093 -2.7457 -0.3249  -0.3939  12.6317  14.8863   1.3854   \n",
              "3     0.0  11.0604 -2.1518  2.3061 -19.8592  22.5316  18.6129   1.3512   \n",
              "4     0.0   9.8369 -1.4834 -9.4458 -22.9264  12.3562  17.3410   1.6940   \n",
              "\n",
              "   var_104  var_105  ...  var_195_size  var_195_size_scaled  var_196_size  \\\n",
              "0  14.7100   6.0454  ...             5             1.319261             5   \n",
              "1  15.1866   2.6227  ...             4             1.132075             4   \n",
              "2  15.0284   3.9995  ...             2             0.683371             3   \n",
              "3   9.3291   4.2835  ...             8             1.111111             5   \n",
              "4   7.1179   5.1934  ...             9             1.261682             5   \n",
              "\n",
              "   var_196_size_scaled  var_197_size  var_197_size_scaled  var_198_size  \\\n",
              "0             1.908397            14             1.011561             5   \n",
              "1             1.459854            21             1.619121             6   \n",
              "2             1.576182            12             1.052324             4   \n",
              "3             1.940492             4             0.664084             2   \n",
              "4             1.704545             9             0.768793             2   \n",
              "\n",
              "   var_198_size_scaled  var_199_size  var_199_size_scaled  \n",
              "0             1.429933             2             0.859599  \n",
              "1             1.269394             2             0.914634  \n",
              "2             0.768738             2             0.914634  \n",
              "3             0.439883             2             1.025641  \n",
              "4             0.428266             2             0.974026  \n",
              "\n",
              "[5 rows x 601 columns]"
            ],
            "text/html": [
              "\n",
              "  <div id=\"df-dbfda6a6-983a-4627-bdfa-e66f7a78263b\">\n",
              "    <div class=\"colab-df-container\">\n",
              "      <div>\n",
              "<style scoped>\n",
              "    .dataframe tbody tr th:only-of-type {\n",
              "        vertical-align: middle;\n",
              "    }\n",
              "\n",
              "    .dataframe tbody tr th {\n",
              "        vertical-align: top;\n",
              "    }\n",
              "\n",
              "    .dataframe thead th {\n",
              "        text-align: right;\n",
              "    }\n",
              "</style>\n",
              "<table border=\"1\" class=\"dataframe\">\n",
              "  <thead>\n",
              "    <tr style=\"text-align: right;\">\n",
              "      <th></th>\n",
              "      <th>target</th>\n",
              "      <th>var_0</th>\n",
              "      <th>var_1</th>\n",
              "      <th>var_10</th>\n",
              "      <th>var_100</th>\n",
              "      <th>var_101</th>\n",
              "      <th>var_102</th>\n",
              "      <th>var_103</th>\n",
              "      <th>var_104</th>\n",
              "      <th>var_105</th>\n",
              "      <th>...</th>\n",
              "      <th>var_195_size</th>\n",
              "      <th>var_195_size_scaled</th>\n",
              "      <th>var_196_size</th>\n",
              "      <th>var_196_size_scaled</th>\n",
              "      <th>var_197_size</th>\n",
              "      <th>var_197_size_scaled</th>\n",
              "      <th>var_198_size</th>\n",
              "      <th>var_198_size_scaled</th>\n",
              "      <th>var_199_size</th>\n",
              "      <th>var_199_size_scaled</th>\n",
              "    </tr>\n",
              "  </thead>\n",
              "  <tbody>\n",
              "    <tr>\n",
              "      <th>0</th>\n",
              "      <td>0.0</td>\n",
              "      <td>8.9255</td>\n",
              "      <td>-6.7863</td>\n",
              "      <td>2.9252</td>\n",
              "      <td>9.4763</td>\n",
              "      <td>13.3102</td>\n",
              "      <td>26.5376</td>\n",
              "      <td>1.4403</td>\n",
              "      <td>14.7100</td>\n",
              "      <td>6.0454</td>\n",
              "      <td>...</td>\n",
              "      <td>5</td>\n",
              "      <td>1.319261</td>\n",
              "      <td>5</td>\n",
              "      <td>1.908397</td>\n",
              "      <td>14</td>\n",
              "      <td>1.011561</td>\n",
              "      <td>5</td>\n",
              "      <td>1.429933</td>\n",
              "      <td>2</td>\n",
              "      <td>0.859599</td>\n",
              "    </tr>\n",
              "    <tr>\n",
              "      <th>1</th>\n",
              "      <td>0.0</td>\n",
              "      <td>11.5006</td>\n",
              "      <td>-4.1473</td>\n",
              "      <td>-0.4032</td>\n",
              "      <td>-13.6950</td>\n",
              "      <td>8.4068</td>\n",
              "      <td>35.4734</td>\n",
              "      <td>1.7093</td>\n",
              "      <td>15.1866</td>\n",
              "      <td>2.6227</td>\n",
              "      <td>...</td>\n",
              "      <td>4</td>\n",
              "      <td>1.132075</td>\n",
              "      <td>4</td>\n",
              "      <td>1.459854</td>\n",
              "      <td>21</td>\n",
              "      <td>1.619121</td>\n",
              "      <td>6</td>\n",
              "      <td>1.269394</td>\n",
              "      <td>2</td>\n",
              "      <td>0.914634</td>\n",
              "    </tr>\n",
              "    <tr>\n",
              "      <th>2</th>\n",
              "      <td>0.0</td>\n",
              "      <td>8.6093</td>\n",
              "      <td>-2.7457</td>\n",
              "      <td>-0.3249</td>\n",
              "      <td>-0.3939</td>\n",
              "      <td>12.6317</td>\n",
              "      <td>14.8863</td>\n",
              "      <td>1.3854</td>\n",
              "      <td>15.0284</td>\n",
              "      <td>3.9995</td>\n",
              "      <td>...</td>\n",
              "      <td>2</td>\n",
              "      <td>0.683371</td>\n",
              "      <td>3</td>\n",
              "      <td>1.576182</td>\n",
              "      <td>12</td>\n",
              "      <td>1.052324</td>\n",
              "      <td>4</td>\n",
              "      <td>0.768738</td>\n",
              "      <td>2</td>\n",
              "      <td>0.914634</td>\n",
              "    </tr>\n",
              "    <tr>\n",
              "      <th>3</th>\n",
              "      <td>0.0</td>\n",
              "      <td>11.0604</td>\n",
              "      <td>-2.1518</td>\n",
              "      <td>2.3061</td>\n",
              "      <td>-19.8592</td>\n",
              "      <td>22.5316</td>\n",
              "      <td>18.6129</td>\n",
              "      <td>1.3512</td>\n",
              "      <td>9.3291</td>\n",
              "      <td>4.2835</td>\n",
              "      <td>...</td>\n",
              "      <td>8</td>\n",
              "      <td>1.111111</td>\n",
              "      <td>5</td>\n",
              "      <td>1.940492</td>\n",
              "      <td>4</td>\n",
              "      <td>0.664084</td>\n",
              "      <td>2</td>\n",
              "      <td>0.439883</td>\n",
              "      <td>2</td>\n",
              "      <td>1.025641</td>\n",
              "    </tr>\n",
              "    <tr>\n",
              "      <th>4</th>\n",
              "      <td>0.0</td>\n",
              "      <td>9.8369</td>\n",
              "      <td>-1.4834</td>\n",
              "      <td>-9.4458</td>\n",
              "      <td>-22.9264</td>\n",
              "      <td>12.3562</td>\n",
              "      <td>17.3410</td>\n",
              "      <td>1.6940</td>\n",
              "      <td>7.1179</td>\n",
              "      <td>5.1934</td>\n",
              "      <td>...</td>\n",
              "      <td>9</td>\n",
              "      <td>1.261682</td>\n",
              "      <td>5</td>\n",
              "      <td>1.704545</td>\n",
              "      <td>9</td>\n",
              "      <td>0.768793</td>\n",
              "      <td>2</td>\n",
              "      <td>0.428266</td>\n",
              "      <td>2</td>\n",
              "      <td>0.974026</td>\n",
              "    </tr>\n",
              "  </tbody>\n",
              "</table>\n",
              "<p>5 rows × 601 columns</p>\n",
              "</div>\n",
              "      <button class=\"colab-df-convert\" onclick=\"convertToInteractive('df-dbfda6a6-983a-4627-bdfa-e66f7a78263b')\"\n",
              "              title=\"Convert this dataframe to an interactive table.\"\n",
              "              style=\"display:none;\">\n",
              "        \n",
              "  <svg xmlns=\"http://www.w3.org/2000/svg\" height=\"24px\"viewBox=\"0 0 24 24\"\n",
              "       width=\"24px\">\n",
              "    <path d=\"M0 0h24v24H0V0z\" fill=\"none\"/>\n",
              "    <path d=\"M18.56 5.44l.94 2.06.94-2.06 2.06-.94-2.06-.94-.94-2.06-.94 2.06-2.06.94zm-11 1L8.5 8.5l.94-2.06 2.06-.94-2.06-.94L8.5 2.5l-.94 2.06-2.06.94zm10 10l.94 2.06.94-2.06 2.06-.94-2.06-.94-.94-2.06-.94 2.06-2.06.94z\"/><path d=\"M17.41 7.96l-1.37-1.37c-.4-.4-.92-.59-1.43-.59-.52 0-1.04.2-1.43.59L10.3 9.45l-7.72 7.72c-.78.78-.78 2.05 0 2.83L4 21.41c.39.39.9.59 1.41.59.51 0 1.02-.2 1.41-.59l7.78-7.78 2.81-2.81c.8-.78.8-2.07 0-2.86zM5.41 20L4 18.59l7.72-7.72 1.47 1.35L5.41 20z\"/>\n",
              "  </svg>\n",
              "      </button>\n",
              "      \n",
              "  <style>\n",
              "    .colab-df-container {\n",
              "      display:flex;\n",
              "      flex-wrap:wrap;\n",
              "      gap: 12px;\n",
              "    }\n",
              "\n",
              "    .colab-df-convert {\n",
              "      background-color: #E8F0FE;\n",
              "      border: none;\n",
              "      border-radius: 50%;\n",
              "      cursor: pointer;\n",
              "      display: none;\n",
              "      fill: #1967D2;\n",
              "      height: 32px;\n",
              "      padding: 0 0 0 0;\n",
              "      width: 32px;\n",
              "    }\n",
              "\n",
              "    .colab-df-convert:hover {\n",
              "      background-color: #E2EBFA;\n",
              "      box-shadow: 0px 1px 2px rgba(60, 64, 67, 0.3), 0px 1px 3px 1px rgba(60, 64, 67, 0.15);\n",
              "      fill: #174EA6;\n",
              "    }\n",
              "\n",
              "    [theme=dark] .colab-df-convert {\n",
              "      background-color: #3B4455;\n",
              "      fill: #D2E3FC;\n",
              "    }\n",
              "\n",
              "    [theme=dark] .colab-df-convert:hover {\n",
              "      background-color: #434B5C;\n",
              "      box-shadow: 0px 1px 3px 1px rgba(0, 0, 0, 0.15);\n",
              "      filter: drop-shadow(0px 1px 2px rgba(0, 0, 0, 0.3));\n",
              "      fill: #FFFFFF;\n",
              "    }\n",
              "  </style>\n",
              "\n",
              "      <script>\n",
              "        const buttonEl =\n",
              "          document.querySelector('#df-dbfda6a6-983a-4627-bdfa-e66f7a78263b button.colab-df-convert');\n",
              "        buttonEl.style.display =\n",
              "          google.colab.kernel.accessAllowed ? 'block' : 'none';\n",
              "\n",
              "        async function convertToInteractive(key) {\n",
              "          const element = document.querySelector('#df-dbfda6a6-983a-4627-bdfa-e66f7a78263b');\n",
              "          const dataTable =\n",
              "            await google.colab.kernel.invokeFunction('convertToInteractive',\n",
              "                                                     [key], {});\n",
              "          if (!dataTable) return;\n",
              "\n",
              "          const docLinkHtml = 'Like what you see? Visit the ' +\n",
              "            '<a target=\"_blank\" href=https://colab.research.google.com/notebooks/data_table.ipynb>data table notebook</a>'\n",
              "            + ' to learn more about interactive tables.';\n",
              "          element.innerHTML = '';\n",
              "          dataTable['output_type'] = 'display_data';\n",
              "          await google.colab.output.renderOutput(dataTable, element);\n",
              "          const docLink = document.createElement('div');\n",
              "          docLink.innerHTML = docLinkHtml;\n",
              "          element.appendChild(docLink);\n",
              "        }\n",
              "      </script>\n",
              "    </div>\n",
              "  </div>\n",
              "  "
            ]
          },
          "metadata": {},
          "execution_count": 14
        }
      ]
    },
    {
      "cell_type": "code",
      "source": [
        "test.head()"
      ],
      "metadata": {
        "colab": {
          "base_uri": "https://localhost:8080/",
          "height": 300
        },
        "id": "Ooo_Gqib1Ibk",
        "outputId": "f16608c3-cb72-43b4-bcc3-66bde5be0869"
      },
      "execution_count": null,
      "outputs": [
        {
          "output_type": "execute_result",
          "data": {
            "text/plain": [
              "          var_0    var_1  var_10  var_100  var_101  var_102  var_103  var_104  \\\n",
              "200000  11.0656   7.7798 -2.0248  -9.2198  17.3089  30.9548   1.4918  12.8721   \n",
              "200001   8.5304   1.2543 -1.3809  -1.7257  15.4712  35.6020   1.6570  13.0783   \n",
              "200002   5.4827 -10.3581 -4.7057  -3.5065  14.1663  28.0256   1.3935  10.8257   \n",
              "200003   8.5374  -1.3222  0.0095   1.7021   2.5363   3.8763   1.5173  13.4083   \n",
              "200004  11.7058  -0.1327  5.1025 -14.3858  17.8630  23.2274   1.4375  14.4838   \n",
              "\n",
              "        var_105  var_106  ...  var_195_size  var_195_size_scaled  \\\n",
              "200000   3.4902   8.2856  ...             3             1.179554   \n",
              "200001   2.7752   6.4986  ...            18             1.994092   \n",
              "200002   4.2954   8.2125  ...             2             0.600601   \n",
              "200003   2.8965   7.0919  ...             4             1.323043   \n",
              "200004   4.3806  10.6976  ...            11             1.323176   \n",
              "\n",
              "        var_196_size  var_196_size_scaled  var_197_size  var_197_size_scaled  \\\n",
              "200000             5             1.740139             4             1.307190   \n",
              "200001             2             0.735294            11             1.254753   \n",
              "200002             1             0.561798             3             0.949367   \n",
              "200003             2             0.715990            10             0.846024   \n",
              "200004             2             0.879765             4             1.136364   \n",
              "\n",
              "        var_198_size  var_198_size_scaled  var_199_size  var_199_size_scaled  \n",
              "200000             4             0.815772             4             1.944895  \n",
              "200001             3             0.813743             3             2.017937  \n",
              "200002             2             0.639659             1             0.696056  \n",
              "200003             7             1.785714             1             0.429185  \n",
              "200004             2             0.480384             3             1.339286  \n",
              "\n",
              "[5 rows x 600 columns]"
            ],
            "text/html": [
              "\n",
              "  <div id=\"df-daeb83a6-54ed-46b2-95d1-79fa9f5ae257\">\n",
              "    <div class=\"colab-df-container\">\n",
              "      <div>\n",
              "<style scoped>\n",
              "    .dataframe tbody tr th:only-of-type {\n",
              "        vertical-align: middle;\n",
              "    }\n",
              "\n",
              "    .dataframe tbody tr th {\n",
              "        vertical-align: top;\n",
              "    }\n",
              "\n",
              "    .dataframe thead th {\n",
              "        text-align: right;\n",
              "    }\n",
              "</style>\n",
              "<table border=\"1\" class=\"dataframe\">\n",
              "  <thead>\n",
              "    <tr style=\"text-align: right;\">\n",
              "      <th></th>\n",
              "      <th>var_0</th>\n",
              "      <th>var_1</th>\n",
              "      <th>var_10</th>\n",
              "      <th>var_100</th>\n",
              "      <th>var_101</th>\n",
              "      <th>var_102</th>\n",
              "      <th>var_103</th>\n",
              "      <th>var_104</th>\n",
              "      <th>var_105</th>\n",
              "      <th>var_106</th>\n",
              "      <th>...</th>\n",
              "      <th>var_195_size</th>\n",
              "      <th>var_195_size_scaled</th>\n",
              "      <th>var_196_size</th>\n",
              "      <th>var_196_size_scaled</th>\n",
              "      <th>var_197_size</th>\n",
              "      <th>var_197_size_scaled</th>\n",
              "      <th>var_198_size</th>\n",
              "      <th>var_198_size_scaled</th>\n",
              "      <th>var_199_size</th>\n",
              "      <th>var_199_size_scaled</th>\n",
              "    </tr>\n",
              "  </thead>\n",
              "  <tbody>\n",
              "    <tr>\n",
              "      <th>200000</th>\n",
              "      <td>11.0656</td>\n",
              "      <td>7.7798</td>\n",
              "      <td>-2.0248</td>\n",
              "      <td>-9.2198</td>\n",
              "      <td>17.3089</td>\n",
              "      <td>30.9548</td>\n",
              "      <td>1.4918</td>\n",
              "      <td>12.8721</td>\n",
              "      <td>3.4902</td>\n",
              "      <td>8.2856</td>\n",
              "      <td>...</td>\n",
              "      <td>3</td>\n",
              "      <td>1.179554</td>\n",
              "      <td>5</td>\n",
              "      <td>1.740139</td>\n",
              "      <td>4</td>\n",
              "      <td>1.307190</td>\n",
              "      <td>4</td>\n",
              "      <td>0.815772</td>\n",
              "      <td>4</td>\n",
              "      <td>1.944895</td>\n",
              "    </tr>\n",
              "    <tr>\n",
              "      <th>200001</th>\n",
              "      <td>8.5304</td>\n",
              "      <td>1.2543</td>\n",
              "      <td>-1.3809</td>\n",
              "      <td>-1.7257</td>\n",
              "      <td>15.4712</td>\n",
              "      <td>35.6020</td>\n",
              "      <td>1.6570</td>\n",
              "      <td>13.0783</td>\n",
              "      <td>2.7752</td>\n",
              "      <td>6.4986</td>\n",
              "      <td>...</td>\n",
              "      <td>18</td>\n",
              "      <td>1.994092</td>\n",
              "      <td>2</td>\n",
              "      <td>0.735294</td>\n",
              "      <td>11</td>\n",
              "      <td>1.254753</td>\n",
              "      <td>3</td>\n",
              "      <td>0.813743</td>\n",
              "      <td>3</td>\n",
              "      <td>2.017937</td>\n",
              "    </tr>\n",
              "    <tr>\n",
              "      <th>200002</th>\n",
              "      <td>5.4827</td>\n",
              "      <td>-10.3581</td>\n",
              "      <td>-4.7057</td>\n",
              "      <td>-3.5065</td>\n",
              "      <td>14.1663</td>\n",
              "      <td>28.0256</td>\n",
              "      <td>1.3935</td>\n",
              "      <td>10.8257</td>\n",
              "      <td>4.2954</td>\n",
              "      <td>8.2125</td>\n",
              "      <td>...</td>\n",
              "      <td>2</td>\n",
              "      <td>0.600601</td>\n",
              "      <td>1</td>\n",
              "      <td>0.561798</td>\n",
              "      <td>3</td>\n",
              "      <td>0.949367</td>\n",
              "      <td>2</td>\n",
              "      <td>0.639659</td>\n",
              "      <td>1</td>\n",
              "      <td>0.696056</td>\n",
              "    </tr>\n",
              "    <tr>\n",
              "      <th>200003</th>\n",
              "      <td>8.5374</td>\n",
              "      <td>-1.3222</td>\n",
              "      <td>0.0095</td>\n",
              "      <td>1.7021</td>\n",
              "      <td>2.5363</td>\n",
              "      <td>3.8763</td>\n",
              "      <td>1.5173</td>\n",
              "      <td>13.4083</td>\n",
              "      <td>2.8965</td>\n",
              "      <td>7.0919</td>\n",
              "      <td>...</td>\n",
              "      <td>4</td>\n",
              "      <td>1.323043</td>\n",
              "      <td>2</td>\n",
              "      <td>0.715990</td>\n",
              "      <td>10</td>\n",
              "      <td>0.846024</td>\n",
              "      <td>7</td>\n",
              "      <td>1.785714</td>\n",
              "      <td>1</td>\n",
              "      <td>0.429185</td>\n",
              "    </tr>\n",
              "    <tr>\n",
              "      <th>200004</th>\n",
              "      <td>11.7058</td>\n",
              "      <td>-0.1327</td>\n",
              "      <td>5.1025</td>\n",
              "      <td>-14.3858</td>\n",
              "      <td>17.8630</td>\n",
              "      <td>23.2274</td>\n",
              "      <td>1.4375</td>\n",
              "      <td>14.4838</td>\n",
              "      <td>4.3806</td>\n",
              "      <td>10.6976</td>\n",
              "      <td>...</td>\n",
              "      <td>11</td>\n",
              "      <td>1.323176</td>\n",
              "      <td>2</td>\n",
              "      <td>0.879765</td>\n",
              "      <td>4</td>\n",
              "      <td>1.136364</td>\n",
              "      <td>2</td>\n",
              "      <td>0.480384</td>\n",
              "      <td>3</td>\n",
              "      <td>1.339286</td>\n",
              "    </tr>\n",
              "  </tbody>\n",
              "</table>\n",
              "<p>5 rows × 600 columns</p>\n",
              "</div>\n",
              "      <button class=\"colab-df-convert\" onclick=\"convertToInteractive('df-daeb83a6-54ed-46b2-95d1-79fa9f5ae257')\"\n",
              "              title=\"Convert this dataframe to an interactive table.\"\n",
              "              style=\"display:none;\">\n",
              "        \n",
              "  <svg xmlns=\"http://www.w3.org/2000/svg\" height=\"24px\"viewBox=\"0 0 24 24\"\n",
              "       width=\"24px\">\n",
              "    <path d=\"M0 0h24v24H0V0z\" fill=\"none\"/>\n",
              "    <path d=\"M18.56 5.44l.94 2.06.94-2.06 2.06-.94-2.06-.94-.94-2.06-.94 2.06-2.06.94zm-11 1L8.5 8.5l.94-2.06 2.06-.94-2.06-.94L8.5 2.5l-.94 2.06-2.06.94zm10 10l.94 2.06.94-2.06 2.06-.94-2.06-.94-.94-2.06-.94 2.06-2.06.94z\"/><path d=\"M17.41 7.96l-1.37-1.37c-.4-.4-.92-.59-1.43-.59-.52 0-1.04.2-1.43.59L10.3 9.45l-7.72 7.72c-.78.78-.78 2.05 0 2.83L4 21.41c.39.39.9.59 1.41.59.51 0 1.02-.2 1.41-.59l7.78-7.78 2.81-2.81c.8-.78.8-2.07 0-2.86zM5.41 20L4 18.59l7.72-7.72 1.47 1.35L5.41 20z\"/>\n",
              "  </svg>\n",
              "      </button>\n",
              "      \n",
              "  <style>\n",
              "    .colab-df-container {\n",
              "      display:flex;\n",
              "      flex-wrap:wrap;\n",
              "      gap: 12px;\n",
              "    }\n",
              "\n",
              "    .colab-df-convert {\n",
              "      background-color: #E8F0FE;\n",
              "      border: none;\n",
              "      border-radius: 50%;\n",
              "      cursor: pointer;\n",
              "      display: none;\n",
              "      fill: #1967D2;\n",
              "      height: 32px;\n",
              "      padding: 0 0 0 0;\n",
              "      width: 32px;\n",
              "    }\n",
              "\n",
              "    .colab-df-convert:hover {\n",
              "      background-color: #E2EBFA;\n",
              "      box-shadow: 0px 1px 2px rgba(60, 64, 67, 0.3), 0px 1px 3px 1px rgba(60, 64, 67, 0.15);\n",
              "      fill: #174EA6;\n",
              "    }\n",
              "\n",
              "    [theme=dark] .colab-df-convert {\n",
              "      background-color: #3B4455;\n",
              "      fill: #D2E3FC;\n",
              "    }\n",
              "\n",
              "    [theme=dark] .colab-df-convert:hover {\n",
              "      background-color: #434B5C;\n",
              "      box-shadow: 0px 1px 3px 1px rgba(0, 0, 0, 0.15);\n",
              "      filter: drop-shadow(0px 1px 2px rgba(0, 0, 0, 0.3));\n",
              "      fill: #FFFFFF;\n",
              "    }\n",
              "  </style>\n",
              "\n",
              "      <script>\n",
              "        const buttonEl =\n",
              "          document.querySelector('#df-daeb83a6-54ed-46b2-95d1-79fa9f5ae257 button.colab-df-convert');\n",
              "        buttonEl.style.display =\n",
              "          google.colab.kernel.accessAllowed ? 'block' : 'none';\n",
              "\n",
              "        async function convertToInteractive(key) {\n",
              "          const element = document.querySelector('#df-daeb83a6-54ed-46b2-95d1-79fa9f5ae257');\n",
              "          const dataTable =\n",
              "            await google.colab.kernel.invokeFunction('convertToInteractive',\n",
              "                                                     [key], {});\n",
              "          if (!dataTable) return;\n",
              "\n",
              "          const docLinkHtml = 'Like what you see? Visit the ' +\n",
              "            '<a target=\"_blank\" href=https://colab.research.google.com/notebooks/data_table.ipynb>data table notebook</a>'\n",
              "            + ' to learn more about interactive tables.';\n",
              "          element.innerHTML = '';\n",
              "          dataTable['output_type'] = 'display_data';\n",
              "          await google.colab.output.renderOutput(dataTable, element);\n",
              "          const docLink = document.createElement('div');\n",
              "          docLink.innerHTML = docLinkHtml;\n",
              "          element.appendChild(docLink);\n",
              "        }\n",
              "      </script>\n",
              "    </div>\n",
              "  </div>\n",
              "  "
            ]
          },
          "metadata": {},
          "execution_count": 15
        }
      ]
    },
    {
      "cell_type": "code",
      "source": [
        "features = train.iloc[:,1:].columns\n",
        "target = train['target']"
      ],
      "metadata": {
        "id": "Slt-4_It1Ifu"
      },
      "execution_count": null,
      "outputs": []
    },
    {
      "cell_type": "code",
      "source": [
        "features"
      ],
      "metadata": {
        "colab": {
          "base_uri": "https://localhost:8080/"
        },
        "id": "91MXg9bB8xrM",
        "outputId": "1a73e070-eee5-447c-abfd-0ae3adb91437"
      },
      "execution_count": null,
      "outputs": [
        {
          "output_type": "execute_result",
          "data": {
            "text/plain": [
              "Index(['var_0', 'var_1', 'var_10', 'var_100', 'var_101', 'var_102', 'var_103',\n",
              "       'var_104', 'var_105', 'var_106',\n",
              "       ...\n",
              "       'var_195_size', 'var_195_size_scaled', 'var_196_size',\n",
              "       'var_196_size_scaled', 'var_197_size', 'var_197_size_scaled',\n",
              "       'var_198_size', 'var_198_size_scaled', 'var_199_size',\n",
              "       'var_199_size_scaled'],\n",
              "      dtype='object', length=600)"
            ]
          },
          "metadata": {},
          "execution_count": 17
        }
      ]
    },
    {
      "cell_type": "code",
      "source": [
        "print(train.shape)\n",
        "print(test.shape)"
      ],
      "metadata": {
        "id": "iwgBRRS09S1s",
        "colab": {
          "base_uri": "https://localhost:8080/"
        },
        "outputId": "2b951a07-7d86-4210-bc42-6a0c8bef58c5"
      },
      "execution_count": null,
      "outputs": [
        {
          "output_type": "stream",
          "name": "stdout",
          "text": [
            "(200000, 601)\n",
            "(200000, 600)\n"
          ]
        }
      ]
    },
    {
      "cell_type": "markdown",
      "source": [
        "### Bayesian Optimization\n",
        "\n",
        "\n"
      ],
      "metadata": {
        "id": "kXOIl411UwYX"
      }
    },
    {
      "cell_type": "markdown",
      "source": [
        "Using Bayesian optimization to find best hyperparameters. Implementation was found using link provided on Canvas: https://www.kaggle.com/code/sz8416/simple-bayesian-optimization-for-lightgbm/notebook"
      ],
      "metadata": {
        "id": "G_zaiPfPU9nr"
      }
    },
    {
      "cell_type": "code",
      "source": [
        "X = train.iloc[:,1:]"
      ],
      "metadata": {
        "id": "nUJB5D-nWnJD"
      },
      "execution_count": null,
      "outputs": []
    },
    {
      "cell_type": "code",
      "source": [
        "Y = train.iloc[:,0]"
      ],
      "metadata": {
        "id": "Mhq5-aFHWpY3"
      },
      "execution_count": null,
      "outputs": []
    },
    {
      "cell_type": "code",
      "source": [
        "def bayes_parameter_opt_lgb(X, Y, init_round=15, opt_round=25, n_folds=1, random_seed=45, n_estimators=10000, learning_rate=0.05, scale_pos_weight=8.95, output_process=False):\n",
        "    # prepare data\n",
        "    train_data = lgb.Dataset(data=X, label=Y, categorical_feature = 'auto', free_raw_data=False)\n",
        "    # parameters\n",
        "    def lgb_eval(num_leaves, max_bin, min_child_samples, reg_alpha, reg_lambda, feature_fraction, bagging_fraction, bagging_freq, max_depth, lambda_l1, lambda_l2, min_split_gain, min_child_weight):\n",
        "        params = {'application':'binary','num_iterations': n_estimators, 'learning_rate':learning_rate, 'early_stopping_round':100, 'scale_pos_weight':scale_pos_weight, 'metric':'auc'}\n",
        "        params['num_leaves'] = int(round(num_leaves))\n",
        "        params['max_bin'] =  int(round(max_bin))\n",
        "        params['min_child_samples'] = int(round(min_child_samples))\n",
        "        params['reg_alpha'] =  int(round(reg_alpha))\n",
        "        params['reg_lambda'] = int(round(reg_lambda))\n",
        "        params['feature_fraction'] = max(min(feature_fraction, 1), 0)\n",
        "        params['bagging_fraction'] = max(min(bagging_fraction, 1), 0)\n",
        "        params['bagging_freq']= int(round(bagging_freq))\n",
        "        params['max_depth'] = int(round(max_depth))\n",
        "        params['lambda_l1'] = max(lambda_l1, 0)\n",
        "        params['lambda_l2'] = max(lambda_l2, 0)\n",
        "        params['min_split_gain'] = min_split_gain\n",
        "        params['min_child_weight'] = min_child_weight\n",
        "        cv_result = lgb.cv(params, train_data, nfold=n_folds, seed=random_seed, stratified=True, verbose_eval =200, metrics=['auc'])\n",
        "        return max(cv_result['auc-mean'])\n",
        "    # range \n",
        "    lgbBO = BayesianOptimization(lgb_eval, {'num_leaves': (25, 33),\n",
        "                                            'max_bin': (1000, 1050), \n",
        "                                            'min_child_samples': (900, 1100),\n",
        "                                            'reg_alpha': (.05, 2.0),\n",
        "                                            'reg_lambda': (0.1, 0.3),\n",
        "                                            'feature_fraction': (0.5, 1.5),\n",
        "                                            'bagging_fraction': (0.8, 1.2),\n",
        "                                            'bagging_freq': (1,  3),\n",
        "                                            'max_depth': (3, 8),\n",
        "                                            'lambda_l1': (0, 7),\n",
        "                                            'lambda_l2': (0, 5),\n",
        "                                            'min_split_gain': (0.001, 0.0),\n",
        "                                            'min_child_weight': (.001, .1)}, random_state=45)\n",
        "    # optimize\n",
        "    lgbBO.maximize(init_points=init_round, n_iter=opt_round)\n",
        "    \n",
        "    # output optimization process\n",
        "    if output_process==True: lgbBO.points_to_csv(\"bayes_opt_result.csv\")\n",
        "    \n",
        "    # return best parameters\n",
        "    return lgbBO.max   \n",
        "\n",
        "opt_params = bayes_parameter_opt_lgb(X, Y, init_round=5, opt_round=10, n_folds=3, random_seed=45, n_estimators=100, learning_rate=0.05, scale_pos_weight=8.95)"
      ],
      "metadata": {
        "colab": {
          "base_uri": "https://localhost:8080/"
        },
        "id": "8AOMyyWjUnYH",
        "outputId": "b17f020a-f0c1-452a-9635-55926977cd3d"
      },
      "execution_count": null,
      "outputs": [
        {
          "output_type": "stream",
          "name": "stdout",
          "text": [
            "|   iter    |  target   | baggin... | baggin... | featur... | lambda_l1 | lambda_l2 |  max_bin  | max_depth | min_ch... | min_ch... | min_sp... | num_le... | reg_alpha | reg_la... |\n",
            "-------------------------------------------------------------------------------------------------------------------------------------------------------------------------------------\n"
          ]
        },
        {
          "output_type": "stream",
          "name": "stderr",
          "text": [
            "/usr/local/lib/python3.7/dist-packages/lightgbm/engine.py:430: UserWarning: Found `num_iterations` in params. Will use it instead of argument\n",
            "  warnings.warn(\"Found `{}` in params. Will use it instead of argument\".format(alias))\n",
            "/usr/local/lib/python3.7/dist-packages/lightgbm/engine.py:435: UserWarning: Found `early_stopping_round` in params. Will use it instead of argument\n",
            "  warnings.warn(\"Found `{}` in params. Will use it instead of argument\".format(alias))\n"
          ]
        },
        {
          "output_type": "stream",
          "name": "stdout",
          "text": [
            "| \u001b[0m 1       \u001b[0m | \u001b[0m 0.8136  \u001b[0m | \u001b[0m 1.196   \u001b[0m | \u001b[0m 2.099   \u001b[0m | \u001b[0m 0.7814  \u001b[0m | \u001b[0m 0.541   \u001b[0m | \u001b[0m 2.222   \u001b[0m | \u001b[0m 1.024e+0\u001b[0m | \u001b[0m 3.243   \u001b[0m | \u001b[0m 932.7   \u001b[0m | \u001b[0m 0.01248 \u001b[0m | \u001b[0m 0.000372\u001b[0m | \u001b[0m 31.85   \u001b[0m | \u001b[0m 1.318   \u001b[0m | \u001b[0m 0.2981  \u001b[0m |\n"
          ]
        },
        {
          "output_type": "stream",
          "name": "stderr",
          "text": [
            "/usr/local/lib/python3.7/dist-packages/lightgbm/engine.py:430: UserWarning: Found `num_iterations` in params. Will use it instead of argument\n",
            "  warnings.warn(\"Found `{}` in params. Will use it instead of argument\".format(alias))\n",
            "/usr/local/lib/python3.7/dist-packages/lightgbm/engine.py:435: UserWarning: Found `early_stopping_round` in params. Will use it instead of argument\n",
            "  warnings.warn(\"Found `{}` in params. Will use it instead of argument\".format(alias))\n"
          ]
        },
        {
          "output_type": "stream",
          "name": "stdout",
          "text": [
            "| \u001b[95m 2       \u001b[0m | \u001b[95m 0.8295  \u001b[0m | \u001b[95m 0.9881  \u001b[0m | \u001b[95m 2.237   \u001b[0m | \u001b[95m 0.7827  \u001b[0m | \u001b[95m 6.832   \u001b[0m | \u001b[95m 3.365   \u001b[0m | \u001b[95m 1.022e+0\u001b[0m | \u001b[95m 4.448   \u001b[0m | \u001b[95m 1.002e+0\u001b[0m | \u001b[95m 0.01213 \u001b[0m | \u001b[95m 0.000773\u001b[0m | \u001b[95m 28.83   \u001b[0m | \u001b[95m 0.5234  \u001b[0m | \u001b[95m 0.1776  \u001b[0m |\n"
          ]
        },
        {
          "output_type": "stream",
          "name": "stderr",
          "text": [
            "/usr/local/lib/python3.7/dist-packages/lightgbm/engine.py:430: UserWarning: Found `num_iterations` in params. Will use it instead of argument\n",
            "  warnings.warn(\"Found `{}` in params. Will use it instead of argument\".format(alias))\n",
            "/usr/local/lib/python3.7/dist-packages/lightgbm/engine.py:435: UserWarning: Found `early_stopping_round` in params. Will use it instead of argument\n",
            "  warnings.warn(\"Found `{}` in params. Will use it instead of argument\".format(alias))\n"
          ]
        },
        {
          "output_type": "stream",
          "name": "stdout",
          "text": [
            "| \u001b[95m 3       \u001b[0m | \u001b[95m 0.8492  \u001b[0m | \u001b[95m 1.128   \u001b[0m | \u001b[95m 1.149   \u001b[0m | \u001b[95m 1.423   \u001b[0m | \u001b[95m 1.574   \u001b[0m | \u001b[95m 3.532   \u001b[0m | \u001b[95m 1.006e+0\u001b[0m | \u001b[95m 6.005   \u001b[0m | \u001b[95m 981.4   \u001b[0m | \u001b[95m 0.08385 \u001b[0m | \u001b[95m 0.00075 \u001b[0m | \u001b[95m 28.66   \u001b[0m | \u001b[95m 1.137   \u001b[0m | \u001b[95m 0.1504  \u001b[0m |\n"
          ]
        },
        {
          "output_type": "stream",
          "name": "stderr",
          "text": [
            "/usr/local/lib/python3.7/dist-packages/lightgbm/engine.py:430: UserWarning: Found `num_iterations` in params. Will use it instead of argument\n",
            "  warnings.warn(\"Found `{}` in params. Will use it instead of argument\".format(alias))\n",
            "/usr/local/lib/python3.7/dist-packages/lightgbm/engine.py:435: UserWarning: Found `early_stopping_round` in params. Will use it instead of argument\n",
            "  warnings.warn(\"Found `{}` in params. Will use it instead of argument\".format(alias))\n"
          ]
        },
        {
          "output_type": "stream",
          "name": "stdout",
          "text": [
            "| \u001b[95m 4       \u001b[0m | \u001b[95m 0.8515  \u001b[0m | \u001b[95m 0.8441  \u001b[0m | \u001b[95m 2.453   \u001b[0m | \u001b[95m 0.8101  \u001b[0m | \u001b[95m 5.78    \u001b[0m | \u001b[95m 2.258   \u001b[0m | \u001b[95m 1.005e+0\u001b[0m | \u001b[95m 7.436   \u001b[0m | \u001b[95m 1.048e+0\u001b[0m | \u001b[95m 0.01307 \u001b[0m | \u001b[95m 0.000144\u001b[0m | \u001b[95m 25.54   \u001b[0m | \u001b[95m 0.4087  \u001b[0m | \u001b[95m 0.1344  \u001b[0m |\n"
          ]
        },
        {
          "output_type": "stream",
          "name": "stderr",
          "text": [
            "/usr/local/lib/python3.7/dist-packages/lightgbm/engine.py:430: UserWarning: Found `num_iterations` in params. Will use it instead of argument\n",
            "  warnings.warn(\"Found `{}` in params. Will use it instead of argument\".format(alias))\n",
            "/usr/local/lib/python3.7/dist-packages/lightgbm/engine.py:435: UserWarning: Found `early_stopping_round` in params. Will use it instead of argument\n",
            "  warnings.warn(\"Found `{}` in params. Will use it instead of argument\".format(alias))\n"
          ]
        },
        {
          "output_type": "stream",
          "name": "stdout",
          "text": [
            "| \u001b[0m 5       \u001b[0m | \u001b[0m 0.8404  \u001b[0m | \u001b[0m 1.169   \u001b[0m | \u001b[0m 2.333   \u001b[0m | \u001b[0m 0.7551  \u001b[0m | \u001b[0m 1.759   \u001b[0m | \u001b[0m 4.92    \u001b[0m | \u001b[0m 1.034e+0\u001b[0m | \u001b[0m 5.012   \u001b[0m | \u001b[0m 912.8   \u001b[0m | \u001b[0m 0.04494 \u001b[0m | \u001b[0m 0.000792\u001b[0m | \u001b[0m 27.58   \u001b[0m | \u001b[0m 1.316   \u001b[0m | \u001b[0m 0.2448  \u001b[0m |\n"
          ]
        },
        {
          "output_type": "stream",
          "name": "stderr",
          "text": [
            "/usr/local/lib/python3.7/dist-packages/lightgbm/engine.py:430: UserWarning: Found `num_iterations` in params. Will use it instead of argument\n",
            "  warnings.warn(\"Found `{}` in params. Will use it instead of argument\".format(alias))\n",
            "/usr/local/lib/python3.7/dist-packages/lightgbm/engine.py:435: UserWarning: Found `early_stopping_round` in params. Will use it instead of argument\n",
            "  warnings.warn(\"Found `{}` in params. Will use it instead of argument\".format(alias))\n"
          ]
        },
        {
          "output_type": "stream",
          "name": "stdout",
          "text": [
            "| \u001b[0m 6       \u001b[0m | \u001b[0m 0.8477  \u001b[0m | \u001b[0m 1.061   \u001b[0m | \u001b[0m 1.607   \u001b[0m | \u001b[0m 0.9176  \u001b[0m | \u001b[0m 6.943   \u001b[0m | \u001b[0m 2.511   \u001b[0m | \u001b[0m 1.006e+0\u001b[0m | \u001b[0m 6.278   \u001b[0m | \u001b[0m 1.05e+03\u001b[0m | \u001b[0m 0.006963\u001b[0m | \u001b[0m 0.0     \u001b[0m | \u001b[0m 26.03   \u001b[0m | \u001b[0m 0.8044  \u001b[0m | \u001b[0m 0.1254  \u001b[0m |\n"
          ]
        },
        {
          "output_type": "stream",
          "name": "stderr",
          "text": [
            "/usr/local/lib/python3.7/dist-packages/lightgbm/engine.py:430: UserWarning: Found `num_iterations` in params. Will use it instead of argument\n",
            "  warnings.warn(\"Found `{}` in params. Will use it instead of argument\".format(alias))\n",
            "/usr/local/lib/python3.7/dist-packages/lightgbm/engine.py:435: UserWarning: Found `early_stopping_round` in params. Will use it instead of argument\n",
            "  warnings.warn(\"Found `{}` in params. Will use it instead of argument\".format(alias))\n"
          ]
        },
        {
          "output_type": "stream",
          "name": "stdout",
          "text": [
            "| \u001b[95m 7       \u001b[0m | \u001b[95m 0.853   \u001b[0m | \u001b[95m 0.9566  \u001b[0m | \u001b[95m 2.368   \u001b[0m | \u001b[95m 1.079   \u001b[0m | \u001b[95m 3.437   \u001b[0m | \u001b[95m 0.3361  \u001b[0m | \u001b[95m 1e+03   \u001b[0m | \u001b[95m 6.764   \u001b[0m | \u001b[95m 1.037e+0\u001b[0m | \u001b[95m 0.05807 \u001b[0m | \u001b[95m 0.0     \u001b[0m | \u001b[95m 26.39   \u001b[0m | \u001b[95m 0.3312  \u001b[0m | \u001b[95m 0.2272  \u001b[0m |\n"
          ]
        },
        {
          "output_type": "stream",
          "name": "stderr",
          "text": [
            "/usr/local/lib/python3.7/dist-packages/lightgbm/engine.py:430: UserWarning: Found `num_iterations` in params. Will use it instead of argument\n",
            "  warnings.warn(\"Found `{}` in params. Will use it instead of argument\".format(alias))\n",
            "/usr/local/lib/python3.7/dist-packages/lightgbm/engine.py:435: UserWarning: Found `early_stopping_round` in params. Will use it instead of argument\n",
            "  warnings.warn(\"Found `{}` in params. Will use it instead of argument\".format(alias))\n"
          ]
        },
        {
          "output_type": "stream",
          "name": "stdout",
          "text": [
            "| \u001b[95m 8       \u001b[0m | \u001b[95m 0.855   \u001b[0m | \u001b[95m 0.845   \u001b[0m | \u001b[95m 2.181   \u001b[0m | \u001b[95m 0.9851  \u001b[0m | \u001b[95m 1.066   \u001b[0m | \u001b[95m 4.497   \u001b[0m | \u001b[95m 1.019e+0\u001b[0m | \u001b[95m 7.646   \u001b[0m | \u001b[95m 1.039e+0\u001b[0m | \u001b[95m 0.07445 \u001b[0m | \u001b[95m 0.0     \u001b[0m | \u001b[95m 26.17   \u001b[0m | \u001b[95m 1.82    \u001b[0m | \u001b[95m 0.2125  \u001b[0m |\n"
          ]
        },
        {
          "output_type": "stream",
          "name": "stderr",
          "text": [
            "/usr/local/lib/python3.7/dist-packages/lightgbm/engine.py:430: UserWarning: Found `num_iterations` in params. Will use it instead of argument\n",
            "  warnings.warn(\"Found `{}` in params. Will use it instead of argument\".format(alias))\n",
            "/usr/local/lib/python3.7/dist-packages/lightgbm/engine.py:435: UserWarning: Found `early_stopping_round` in params. Will use it instead of argument\n",
            "  warnings.warn(\"Found `{}` in params. Will use it instead of argument\".format(alias))\n"
          ]
        },
        {
          "output_type": "stream",
          "name": "stdout",
          "text": [
            "| \u001b[0m 9       \u001b[0m | \u001b[0m 0.8506  \u001b[0m | \u001b[0m 1.11    \u001b[0m | \u001b[0m 2.253   \u001b[0m | \u001b[0m 0.516   \u001b[0m | \u001b[0m 0.7158  \u001b[0m | \u001b[0m 3.313   \u001b[0m | \u001b[0m 1.039e+0\u001b[0m | \u001b[0m 6.882   \u001b[0m | \u001b[0m 1.044e+0\u001b[0m | \u001b[0m 0.0913  \u001b[0m | \u001b[0m 0.0     \u001b[0m | \u001b[0m 28.43   \u001b[0m | \u001b[0m 0.6425  \u001b[0m | \u001b[0m 0.1339  \u001b[0m |\n"
          ]
        },
        {
          "output_type": "stream",
          "name": "stderr",
          "text": [
            "/usr/local/lib/python3.7/dist-packages/lightgbm/engine.py:430: UserWarning: Found `num_iterations` in params. Will use it instead of argument\n",
            "  warnings.warn(\"Found `{}` in params. Will use it instead of argument\".format(alias))\n",
            "/usr/local/lib/python3.7/dist-packages/lightgbm/engine.py:435: UserWarning: Found `early_stopping_round` in params. Will use it instead of argument\n",
            "  warnings.warn(\"Found `{}` in params. Will use it instead of argument\".format(alias))\n"
          ]
        },
        {
          "output_type": "stream",
          "name": "stdout",
          "text": [
            "| \u001b[0m 10      \u001b[0m | \u001b[0m 0.8475  \u001b[0m | \u001b[0m 1.044   \u001b[0m | \u001b[0m 1.946   \u001b[0m | \u001b[0m 0.971   \u001b[0m | \u001b[0m 1.381   \u001b[0m | \u001b[0m 4.462   \u001b[0m | \u001b[0m 1.048e+0\u001b[0m | \u001b[0m 6.218   \u001b[0m | \u001b[0m 1.068e+0\u001b[0m | \u001b[0m 0.04491 \u001b[0m | \u001b[0m 0.0     \u001b[0m | \u001b[0m 25.08   \u001b[0m | \u001b[0m 1.478   \u001b[0m | \u001b[0m 0.2392  \u001b[0m |\n"
          ]
        },
        {
          "output_type": "stream",
          "name": "stderr",
          "text": [
            "/usr/local/lib/python3.7/dist-packages/lightgbm/engine.py:430: UserWarning: Found `num_iterations` in params. Will use it instead of argument\n",
            "  warnings.warn(\"Found `{}` in params. Will use it instead of argument\".format(alias))\n",
            "/usr/local/lib/python3.7/dist-packages/lightgbm/engine.py:435: UserWarning: Found `early_stopping_round` in params. Will use it instead of argument\n",
            "  warnings.warn(\"Found `{}` in params. Will use it instead of argument\".format(alias))\n"
          ]
        },
        {
          "output_type": "stream",
          "name": "stdout",
          "text": [
            "| \u001b[0m 11      \u001b[0m | \u001b[0m 0.812   \u001b[0m | \u001b[0m 1.073   \u001b[0m | \u001b[0m 1.47    \u001b[0m | \u001b[0m 0.6252  \u001b[0m | \u001b[0m 0.7267  \u001b[0m | \u001b[0m 1.378   \u001b[0m | \u001b[0m 1.05e+03\u001b[0m | \u001b[0m 3.19    \u001b[0m | \u001b[0m 1.099e+0\u001b[0m | \u001b[0m 0.04306 \u001b[0m | \u001b[0m 0.0     \u001b[0m | \u001b[0m 30.6    \u001b[0m | \u001b[0m 1.805   \u001b[0m | \u001b[0m 0.2819  \u001b[0m |\n"
          ]
        },
        {
          "output_type": "stream",
          "name": "stderr",
          "text": [
            "/usr/local/lib/python3.7/dist-packages/lightgbm/engine.py:430: UserWarning: Found `num_iterations` in params. Will use it instead of argument\n",
            "  warnings.warn(\"Found `{}` in params. Will use it instead of argument\".format(alias))\n",
            "/usr/local/lib/python3.7/dist-packages/lightgbm/engine.py:435: UserWarning: Found `early_stopping_round` in params. Will use it instead of argument\n",
            "  warnings.warn(\"Found `{}` in params. Will use it instead of argument\".format(alias))\n"
          ]
        },
        {
          "output_type": "stream",
          "name": "stdout",
          "text": [
            "| \u001b[0m 12      \u001b[0m | \u001b[0m 0.8518  \u001b[0m | \u001b[0m 0.9234  \u001b[0m | \u001b[0m 1.881   \u001b[0m | \u001b[0m 0.7091  \u001b[0m | \u001b[0m 0.1412  \u001b[0m | \u001b[0m 1.657   \u001b[0m | \u001b[0m 1.028e+0\u001b[0m | \u001b[0m 7.082   \u001b[0m | \u001b[0m 1.061e+0\u001b[0m | \u001b[0m 0.05843 \u001b[0m | \u001b[0m 0.0     \u001b[0m | \u001b[0m 31.94   \u001b[0m | \u001b[0m 1.204   \u001b[0m | \u001b[0m 0.2671  \u001b[0m |\n"
          ]
        },
        {
          "output_type": "stream",
          "name": "stderr",
          "text": [
            "/usr/local/lib/python3.7/dist-packages/lightgbm/engine.py:430: UserWarning: Found `num_iterations` in params. Will use it instead of argument\n",
            "  warnings.warn(\"Found `{}` in params. Will use it instead of argument\".format(alias))\n",
            "/usr/local/lib/python3.7/dist-packages/lightgbm/engine.py:435: UserWarning: Found `early_stopping_round` in params. Will use it instead of argument\n",
            "  warnings.warn(\"Found `{}` in params. Will use it instead of argument\".format(alias))\n"
          ]
        },
        {
          "output_type": "stream",
          "name": "stdout",
          "text": [
            "| \u001b[95m 13      \u001b[0m | \u001b[95m 0.8551  \u001b[0m | \u001b[95m 1.161   \u001b[0m | \u001b[95m 1.265   \u001b[0m | \u001b[95m 1.26    \u001b[0m | \u001b[95m 1.929   \u001b[0m | \u001b[95m 2.945   \u001b[0m | \u001b[95m 1e+03   \u001b[0m | \u001b[95m 7.555   \u001b[0m | \u001b[95m 1.085e+0\u001b[0m | \u001b[95m 0.08197 \u001b[0m | \u001b[95m 0.0     \u001b[0m | \u001b[95m 29.72   \u001b[0m | \u001b[95m 0.2306  \u001b[0m | \u001b[95m 0.1179  \u001b[0m |\n"
          ]
        },
        {
          "output_type": "stream",
          "name": "stderr",
          "text": [
            "/usr/local/lib/python3.7/dist-packages/lightgbm/engine.py:430: UserWarning: Found `num_iterations` in params. Will use it instead of argument\n",
            "  warnings.warn(\"Found `{}` in params. Will use it instead of argument\".format(alias))\n",
            "/usr/local/lib/python3.7/dist-packages/lightgbm/engine.py:435: UserWarning: Found `early_stopping_round` in params. Will use it instead of argument\n",
            "  warnings.warn(\"Found `{}` in params. Will use it instead of argument\".format(alias))\n"
          ]
        },
        {
          "output_type": "stream",
          "name": "stdout",
          "text": [
            "| \u001b[0m 14      \u001b[0m | \u001b[0m 0.8316  \u001b[0m | \u001b[0m 1.194   \u001b[0m | \u001b[0m 2.397   \u001b[0m | \u001b[0m 1.15    \u001b[0m | \u001b[0m 6.491   \u001b[0m | \u001b[0m 4.864   \u001b[0m | \u001b[0m 1.003e+0\u001b[0m | \u001b[0m 3.759   \u001b[0m | \u001b[0m 1.1e+03 \u001b[0m | \u001b[0m 0.08969 \u001b[0m | \u001b[0m 0.0     \u001b[0m | \u001b[0m 28.4    \u001b[0m | \u001b[0m 1.684   \u001b[0m | \u001b[0m 0.1752  \u001b[0m |\n"
          ]
        },
        {
          "output_type": "stream",
          "name": "stderr",
          "text": [
            "/usr/local/lib/python3.7/dist-packages/lightgbm/engine.py:430: UserWarning: Found `num_iterations` in params. Will use it instead of argument\n",
            "  warnings.warn(\"Found `{}` in params. Will use it instead of argument\".format(alias))\n",
            "/usr/local/lib/python3.7/dist-packages/lightgbm/engine.py:435: UserWarning: Found `early_stopping_round` in params. Will use it instead of argument\n",
            "  warnings.warn(\"Found `{}` in params. Will use it instead of argument\".format(alias))\n"
          ]
        },
        {
          "output_type": "stream",
          "name": "stdout",
          "text": [
            "| \u001b[0m 15      \u001b[0m | \u001b[0m 0.8546  \u001b[0m | \u001b[0m 1.156   \u001b[0m | \u001b[0m 1.273   \u001b[0m | \u001b[0m 1.428   \u001b[0m | \u001b[0m 0.5781  \u001b[0m | \u001b[0m 2.404   \u001b[0m | \u001b[0m 1.002e+0\u001b[0m | \u001b[0m 7.553   \u001b[0m | \u001b[0m 1.07e+03\u001b[0m | \u001b[0m 0.07123 \u001b[0m | \u001b[0m 0.0     \u001b[0m | \u001b[0m 26.24   \u001b[0m | \u001b[0m 1.324   \u001b[0m | \u001b[0m 0.2099  \u001b[0m |\n",
            "=====================================================================================================================================================================================\n"
          ]
        }
      ]
    },
    {
      "cell_type": "code",
      "source": [
        "opt_params"
      ],
      "metadata": {
        "colab": {
          "base_uri": "https://localhost:8080/"
        },
        "id": "zKw2t70EXY-5",
        "outputId": "708713fd-0ae4-4a99-9c49-335773a37300"
      },
      "execution_count": null,
      "outputs": [
        {
          "output_type": "execute_result",
          "data": {
            "text/plain": [
              "{'params': {'bagging_fraction': 1.1614187714019408,\n",
              "  'bagging_freq': 1.2654287265211401,\n",
              "  'feature_fraction': 1.2604099980246066,\n",
              "  'lambda_l1': 1.929174065599001,\n",
              "  'lambda_l2': 2.945469588455084,\n",
              "  'max_bin': 1000.077686459091,\n",
              "  'max_depth': 7.555001034184233,\n",
              "  'min_child_samples': 1085.305999905374,\n",
              "  'min_child_weight': 0.08197195111900206,\n",
              "  'min_split_gain': 0.0,\n",
              "  'num_leaves': 29.71919828832874,\n",
              "  'reg_alpha': 0.23063663432603598,\n",
              "  'reg_lambda': 0.11793226660459902},\n",
              " 'target': 0.8550786836117683}"
            ]
          },
          "metadata": {},
          "execution_count": 96
        }
      ]
    },
    {
      "cell_type": "markdown",
      "source": [
        "Parameters learned from Bayesian Optimization. These are from previous iteration of Bayes Optimization that yielded a higher score than running them with the magic features. "
      ],
      "metadata": {
        "id": "MSnSbE60a9kT"
      }
    },
    {
      "cell_type": "code",
      "source": [
        "param = {\n",
        "  'learning_rate': .05,\n",
        "  'bagging_fraction': 0.902521322815825,\n",
        "  'bagging_freq': 1,\n",
        "  'feature_fraction': 1.0,\n",
        "  'lambda_l1': 4.1721172821564645,\n",
        "  'lambda_l2': 0.016372953387883693,\n",
        "  'max_bin': 1050,\n",
        "  'max_depth': 8,\n",
        "  'min_child_samples': 1023,\n",
        "  'min_child_weight': 0.051005148095158,\n",
        "  'min_split_gain': 0.0,\n",
        "  'num_leaves': 27,\n",
        "  'reg_alpha': 0.05557302129673095,\n",
        "  'reg_lambda': 0.2965997314178622, 'objective': 'binary', 'metric':'auc', 'learning_rate':0.05, 'boost_from_average':'false'}"
      ],
      "metadata": {
        "id": "gsANGeASzaTd"
      },
      "execution_count": null,
      "outputs": []
    },
    {
      "cell_type": "markdown",
      "source": [
        "# Stratified K Fold / Model Training"
      ],
      "metadata": {
        "id": "xhMvyxgbZ1Gf"
      }
    },
    {
      "cell_type": "markdown",
      "source": [
        "To help with the stratified K fold implementaiton we looked to this post: https://www.kaggle.com/code/jesucristo/30-lines-starter-solution-fast"
      ],
      "metadata": {
        "id": "ARxFJ6f4aLOd"
      }
    },
    {
      "cell_type": "code",
      "source": [
        "folds = StratifiedKFold(n_splits=6, shuffle=False)\n",
        "oof = np.zeros(len(train)) #used to show ROC score on validation tests, not needed for testing prediciton\n",
        "predictions = np.zeros(len(test)) # mimics the testing data but with zero values, the predictions for each value will appended to this "
      ],
      "metadata": {
        "id": "O6PQmLfXzaWZ"
      },
      "execution_count": null,
      "outputs": []
    },
    {
      "cell_type": "code",
      "source": [
        "for fold_, (trn_idx, val_idx) in enumerate(folds.split(train.values, target.values)):\n",
        "    print(\"Fold {}\".format(fold_))\n",
        "    train_dataset = lgb.Dataset(train.iloc[trn_idx][features], label=target.iloc[trn_idx])  # sets up training data\n",
        "    val_dataset = lgb.Dataset(train.iloc[val_idx][features], label=target.iloc[val_idx])  # sets up validation data\n",
        "    clf = lgb.train(param, train_dataset, 100000, valid_sets = [train_dataset, val_dataset], verbose_eval=5000, early_stopping_rounds = 100) # trains the model\n",
        "    oof[val_idx] = clf.predict(train.iloc[val_idx][features], num_iteration=clf.best_iteration) # used to calculate the roc score in the following cell, not needed in the testing prediction\n",
        "    predictions += clf.predict(test[features], num_iteration=clf.best_iteration) / folds.n_splits  # the division of folds.n_splits is a great way to get the average of the best predictions for each k fold\n",
        "    # use best_iteration to get the best iteration when using early stopping"
      ],
      "metadata": {
        "colab": {
          "base_uri": "https://localhost:8080/"
        },
        "id": "kY5PIYudzaYw",
        "outputId": "f7db5c84-60a4-4b7d-bac2-2f2825e8da09"
      },
      "execution_count": null,
      "outputs": [
        {
          "output_type": "stream",
          "name": "stdout",
          "text": [
            "Fold 0\n",
            "Training until validation scores don't improve for 100 rounds.\n",
            "Early stopping, best iteration is:\n",
            "[1377]\ttraining's auc: 0.988208\tvalid_1's auc: 0.907907\n",
            "Fold 1\n",
            "Training until validation scores don't improve for 100 rounds.\n",
            "Early stopping, best iteration is:\n",
            "[1434]\ttraining's auc: 0.989451\tvalid_1's auc: 0.909024\n",
            "Fold 2\n",
            "Training until validation scores don't improve for 100 rounds.\n",
            "Early stopping, best iteration is:\n",
            "[1131]\ttraining's auc: 0.982911\tvalid_1's auc: 0.904974\n",
            "Fold 3\n",
            "Training until validation scores don't improve for 100 rounds.\n",
            "Early stopping, best iteration is:\n",
            "[1183]\ttraining's auc: 0.983642\tvalid_1's auc: 0.910747\n",
            "Fold 4\n",
            "Training until validation scores don't improve for 100 rounds.\n",
            "Early stopping, best iteration is:\n",
            "[1058]\ttraining's auc: 0.98063\tvalid_1's auc: 0.909093\n",
            "Fold 5\n",
            "Training until validation scores don't improve for 100 rounds.\n",
            "Early stopping, best iteration is:\n",
            "[1186]\ttraining's auc: 0.984026\tvalid_1's auc: 0.911681\n"
          ]
        }
      ]
    },
    {
      "cell_type": "code",
      "source": [
        "print(\"CV score: {:<8.5f}\".format(roc_auc_score(target, oof)))"
      ],
      "metadata": {
        "id": "5qU3WQqRzahv",
        "colab": {
          "base_uri": "https://localhost:8080/"
        },
        "outputId": "9635961a-b82d-4541-ab8d-5f97d27d0c13"
      },
      "execution_count": null,
      "outputs": [
        {
          "output_type": "stream",
          "name": "stdout",
          "text": [
            "CV score: 0.90885 \n"
          ]
        }
      ]
    },
    {
      "cell_type": "markdown",
      "source": [
        "# Output of Predictions to CSV"
      ],
      "metadata": {
        "id": "p0cFcVcwZ9cW"
      }
    },
    {
      "cell_type": "code",
      "source": [
        "id_list = []\n",
        "for i in range(200000):\n",
        "  id_list.append('test_' + str(i))"
      ],
      "metadata": {
        "id": "I5sKTFavzajt"
      },
      "execution_count": null,
      "outputs": []
    },
    {
      "cell_type": "code",
      "source": [
        "results = pd.DataFrame(list(zip(id_list, predictions)), columns=['ID_code', 'target'])"
      ],
      "metadata": {
        "id": "SK0JNb7PzaoF"
      },
      "execution_count": null,
      "outputs": []
    },
    {
      "cell_type": "code",
      "source": [
        "output_path = '/content/drive/MyDrive/MSBA_6420_Project/MSBA_6420_Garett_Carlblom_Submission.csv'"
      ],
      "metadata": {
        "id": "giuNR75Yzaqp"
      },
      "execution_count": null,
      "outputs": []
    },
    {
      "cell_type": "code",
      "source": [
        "results.to_csv(output_path, index=False)"
      ],
      "metadata": {
        "id": "u1zLAk08zatT"
      },
      "execution_count": null,
      "outputs": []
    }
  ]
}